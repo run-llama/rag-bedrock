{
 "cells": [
  {
   "cell_type": "markdown",
   "id": "6d688c05-4842-46fc-97a5-5ee2882a0aa7",
   "metadata": {},
   "source": [
    "# Retrieval"
   ]
  },
  {
   "cell_type": "markdown",
   "id": "9762c32b-7df4-478e-949c-9c1355d301b6",
   "metadata": {},
   "source": [
    "Reference: https://github.com/run-llama/llama_index/blob/main/docs/docs/examples/retrievers/bedrock_retriever.ipynb"
   ]
  },
  {
   "cell_type": "code",
   "execution_count": 1,
   "id": "c19fc0a8-06fc-435c-9298-5632d81902e9",
   "metadata": {},
   "outputs": [],
   "source": [
    "from llama_index.core import Settings\n",
    "from llama_index.retrievers.bedrock import AmazonKnowledgeBasesRetriever\n",
    "from llama_index.core.query_engine import RetrieverQueryEngine\n",
    "from llama_index.llms.bedrock import Bedrock"
   ]
  },
  {
   "cell_type": "code",
   "execution_count": 2,
   "id": "2ab469e8-245d-4cf5-a385-23f2046b99fb",
   "metadata": {},
   "outputs": [],
   "source": [
    "# Settings.llm = Bedrock(model='cohere.command-text-v14')"
   ]
  },
  {
   "cell_type": "code",
   "execution_count": 3,
   "id": "d45ec59f-5e59-40ca-8016-e2d3796ff9fa",
   "metadata": {},
   "outputs": [],
   "source": [
    "knowledge_base_id = \"PO6XCEKGI1\"\n",
    "top_k = 4\n",
    "search_mode = \"HYBRID\""
   ]
  },
  {
   "cell_type": "code",
   "execution_count": 4,
   "id": "09dbcf64-181a-46a7-ab10-3c2b250c859f",
   "metadata": {},
   "outputs": [],
   "source": [
    "apple_fpath = \"data/apple_2019.pdf\"\n",
    "apple_retriever = AmazonKnowledgeBasesRetriever(\n",
    "    knowledge_base_id=knowledge_base_id,\n",
    "    retrieval_config={\n",
    "        \"vectorSearchConfiguration\": {\n",
    "            \"numberOfResults\": top_k,\n",
    "            \"overrideSearchType\": search_mode,\n",
    "            \"filter\": {\"equals\": {\"key\": \"file_path\", \"value\": apple_fpath}},\n",
    "        }\n",
    "    },\n",
    ")\n",
    "apple_engine = RetrieverQueryEngine(retriever=apple_retriever)"
   ]
  },
  {
   "cell_type": "code",
   "execution_count": 5,
   "id": "8e5c7d0a-4760-4f06-9f36-10193c55ecfe",
   "metadata": {},
   "outputs": [],
   "source": [
    "tesla_fpath = \"data/tesla_2019.pdf\"\n",
    "tesla_retriever = AmazonKnowledgeBasesRetriever(\n",
    "    knowledge_base_id=knowledge_base_id,\n",
    "    retrieval_config={\n",
    "        \"vectorSearchConfiguration\": {\n",
    "            \"numberOfResults\": top_k,\n",
    "            \"overrideSearchType\": search_mode,\n",
    "            \"filter\": {\"equals\": {\"key\": \"file_path\", \"value\": tesla_fpath}},\n",
    "        }\n",
    "    },\n",
    ")\n",
    "tesla_engine = RetrieverQueryEngine(retriever=tesla_retriever)"
   ]
  },
  {
   "cell_type": "code",
   "execution_count": 6,
   "id": "91c0f3bb-ceea-41c0-82ce-ea337df24dfc",
   "metadata": {},
   "outputs": [],
   "source": [
    "from llama_index.core.tools import QueryEngineTool, ToolMetadata"
   ]
  },
  {
   "cell_type": "code",
   "execution_count": 24,
   "id": "3872f957-68ce-45dc-a152-62e64ac31702",
   "metadata": {},
   "outputs": [],
   "source": [
    "tools = [\n",
    "    QueryEngineTool(\n",
    "        query_engine=apple_engine,\n",
    "        metadata=ToolMetadata(\n",
    "            name=\"apple_2019\",\n",
    "            description=\"10K filing for Apple 2019\",\n",
    "        ),\n",
    "    ),\n",
    "    QueryEngineTool(\n",
    "        query_engine=tesla_engine,\n",
    "        metadata=ToolMetadata(\n",
    "            name=\"tesla_2019\",\n",
    "            description=\"10K filing for Tesla 2019\",\n",
    "        ),\n",
    "    ),\n",
    "]"
   ]
  },
  {
   "cell_type": "code",
   "execution_count": 25,
   "id": "8c388cbc-24aa-40ad-9a38-3e4497b6df93",
   "metadata": {},
   "outputs": [],
   "source": [
    "from llama_index.core.query_engine import SubQuestionQueryEngine"
   ]
  },
  {
   "cell_type": "code",
   "execution_count": 26,
   "id": "9a961416-717e-4bc1-bf19-c78e9b4ee554",
   "metadata": {},
   "outputs": [],
   "source": [
    "query_engine = SubQuestionQueryEngine.from_defaults(\n",
    "    query_engine_tools=tools,\n",
    ")"
   ]
  },
  {
   "cell_type": "code",
   "execution_count": 27,
   "id": "8e1947b9-b218-4a9f-ab46-91b59bc7e214",
   "metadata": {},
   "outputs": [
    {
     "name": "stdout",
     "output_type": "stream",
     "text": [
      "Generated 2 sub questions.\n",
      "\u001b[1;3;38;2;237;90;200m[apple_2019] Q: What were the key risk areas identified in the 10K filing for Apple in 2019?\n",
      "\u001b[0m\u001b[1;3;38;2;90;149;237m[tesla_2019] Q: What were the key risk areas identified in the 10K filing for Tesla in 2019?\n",
      "\u001b[0m\u001b[1;3;38;2;237;90;200m[apple_2019] A: Key risk areas identified in the 10K filing for Apple in 2019 included competitive markets, credit risk associated with derivative instruments, potential legal and other claims including intellectual property rights infringement, and exposure to complex and changing laws and regulations worldwide.\n",
      "\u001b[0m\u001b[1;3;38;2;90;149;237m[tesla_2019] A: The key risk areas identified in the 10K filing for Tesla in 2019 included automotive revenue recognition controls for sales with resale value guarantees or buyback options, sales return reserves, management's estimation of future market values, historical experience evaluation, economic incentives for customers, warranty reserves for new and used vehicles, and interest rate risk related to borrowings with floating rates.\n",
      "\u001b[0m"
     ]
    }
   ],
   "source": [
    "response = await query_engine.aquery('compare risks areas for apple and tesla in 2019')"
   ]
  },
  {
   "cell_type": "code",
   "execution_count": 28,
   "id": "e320d865-8101-41aa-88c2-c1752193dc7e",
   "metadata": {},
   "outputs": [],
   "source": [
    "from llama_index.core.response.pprint_utils import pprint_response"
   ]
  },
  {
   "cell_type": "code",
   "execution_count": 29,
   "id": "6f37234d-9322-48f4-b03f-d034757716ab",
   "metadata": {},
   "outputs": [
    {
     "name": "stdout",
     "output_type": "stream",
     "text": [
      "Final Response: The key risk areas identified in the 10K filing for\n",
      "Apple in 2019 included competitive markets, credit risk associated\n",
      "with derivative instruments, potential legal and other claims\n",
      "including intellectual property rights infringement, and exposure to\n",
      "complex and changing laws and regulations worldwide. On the other\n",
      "hand, the key risk areas identified in the 10K filing for Tesla in\n",
      "2019 included automotive revenue recognition controls for sales with\n",
      "resale value guarantees or buyback options, sales return reserves,\n",
      "management's estimation of future market values, historical experience\n",
      "evaluation, economic incentives for customers, warranty reserves for\n",
      "new and used vehicles, and interest rate risk related to borrowings\n",
      "with floating rates.\n",
      "______________________________________________________________________\n",
      "Source Node 1/10\n",
      "Node ID: aef1d97a-4824-415a-81e1-a55f62041c40\n",
      "Similarity: None\n",
      "Text: Sub question: What were the key risk areas identified in the 10K\n",
      "filing for Apple in 2019? Response: Key risk areas identified in the\n",
      "10K filing for Apple in 2019 included competitive markets, credit risk\n",
      "associated with derivative instruments, potential legal and other\n",
      "claims including intellectual property rights infringement, and\n",
      "exposure to ...\n",
      "______________________________________________________________________\n",
      "Source Node 2/10\n",
      "Node ID: 400270b3-f089-4b86-b736-7bdd311d97f5\n",
      "Similarity: None\n",
      "Text: Sub question: What were the key risk areas identified in the 10K\n",
      "filing for Tesla in 2019? Response: The key risk areas identified in\n",
      "the 10K filing for Tesla in 2019 included automotive revenue\n",
      "recognition controls for sales with resale value guarantees or buyback\n",
      "options, sales return reserves, management's estimation of future\n",
      "market values, ...\n",
      "______________________________________________________________________\n",
      "Source Node 3/10\n",
      "Node ID: cefcebde-22f0-4309-b735-ea63829d5c54\n",
      "Similarity: 0.56899893\n",
      "Text: Licensing  The Company licenses the use of certain of its\n",
      "intellectual property, and provides other related services.  Other\n",
      "Services  The Company delivers a variety of other services available\n",
      "in certain countries, including Apple Arcade™, a game subscription\n",
      "service; Apple Card™, a co-branded credit card; Apple News+, a\n",
      "subscription news and m...\n",
      "______________________________________________________________________\n",
      "Source Node 4/10\n",
      "Node ID: 12ceba11-656d-473f-b1a1-8fdc76e0bef8\n",
      "Similarity: 0.56899893\n",
      "Text: The credit risk amounts represent the Company’s gross exposure\n",
      "to potential accounting loss on derivative instruments that are\n",
      "outstanding or unsettled if all counterparties failed to perform\n",
      "according to the terms of the contract, based on then-current currency\n",
      "or interest rates at each respective date. The Company’s exposure to\n",
      "credit loss and...\n",
      "______________________________________________________________________\n",
      "Source Node 5/10\n",
      "Node ID: 1f30a6e5-2fac-444c-a562-ed1432348c2c\n",
      "Similarity: 0.5647855781355375\n",
      "Text: The SEC maintains an Internet site that contains reports, proxy\n",
      "and information statements, and other information regarding issuers\n",
      "that file electronically with the SEC at www.sec.gov. The Company\n",
      "periodically provides other information for investors on its corporate\n",
      "website, www.apple.com, and its investor relations website,\n",
      "investor.apple.com...\n",
      "______________________________________________________________________\n",
      "Source Node 6/10\n",
      "Node ID: e2fb85bc-b73e-4cf5-be8e-28c62e4c8f50\n",
      "Similarity: 0.55775213\n",
      "Text: Except as described in Part II, Item 8 of this Form 10-K in the\n",
      "Notes to Consolidated Financial Statements in Note 10, “Commitments\n",
      "and Contingencies” under the heading “Contingencies,” in the opinion\n",
      "of management, there was not at least a reasonable possibility the\n",
      "Company may have incurred a material loss, or a material loss greater\n",
      "than a re...\n",
      "______________________________________________________________________\n",
      "Source Node 7/10\n",
      "Node ID: b34fa82b-56af-4ad1-b290-e0599be74894\n",
      "Similarity: 0.565212\n",
      "Text: These procedures included testing the effectiveness of controls\n",
      "relating to automotive revenue recognition for sales to customers with\n",
      "a resale value guarantee or buyback option as well as the related\n",
      "sales return reserve, including controls over management’s estimate of\n",
      "expected future market values and historical experience. These\n",
      "procedures a...\n",
      "______________________________________________________________________\n",
      "Source Node 8/10\n",
      "Node ID: 187534f6-30ad-4867-9834-856c507e6cd4\n",
      "Similarity: 0.565212\n",
      "Text: # SECURITIES AND EXCHANGE COMMISSIONUNITED STATES  Washington,\n",
      "D.C. 20549  ## FORM 10-K  (Mark One)  ☒ ANNUAL REPORT PURSUANT TO\n",
      "SECTION 13 OR 15(d) OF THE SECURITIES EXCHANGE ACT OF 1934  For the\n",
      "fiscal year ended OR December 31, 2019  ☐ TRANSITION REPORT PURSUANT\n",
      "TO SECTION 13 OR 15(d) OF THE SECURITIES EXCHANGE ACT OF 1934  For the\n",
      "transition...\n",
      "______________________________________________________________________\n",
      "Source Node 9/10\n",
      "Node ID: aa50de0c-2047-4bd3-9752-9a1aa1589488\n",
      "Similarity: 0.5628578\n",
      "Text: /s/ PricewaterhouseCoopers LLP  San Jose, California  February\n",
      "13, 2020  CERTIFICATIONS Exhibit 31.1 I, Elon Musk, certify that:  I\n",
      "have reviewed this Annual Report on Form 10-K of Tesla, Inc.; Based on\n",
      "my knowledge, this report does not contain any untrue statement of a\n",
      "material fact or omit to state a material fact necessary to make the\n",
      "statem...\n",
      "______________________________________________________________________\n",
      "Source Node 10/10\n",
      "Node ID: e2ad29a3-ca3a-4ef8-81df-1dee85a72cf9\n",
      "Similarity: 0.5622827\n",
      "Text: These changes would have resulted in an adverse impact of $362\n",
      "million at December 31, 2019 and $176 million at December 31, 2018\n",
      "assuming no foreign currency hedging.  Interest Rate Risk  We are\n",
      "exposed to interest rate risk on our borrowings that bear interest at\n",
      "floating rates. Pursuant to our risk management policies, in certain\n",
      "cases, we ut...\n"
     ]
    }
   ],
   "source": [
    "pprint_response(response, show_source=True)"
   ]
  },
  {
   "cell_type": "code",
   "execution_count": null,
   "id": "941412b8-ee09-4ac7-ae1d-d99c387d7a76",
   "metadata": {},
   "outputs": [],
   "source": []
  }
 ],
 "metadata": {
  "kernelspec": {
   "display_name": "Python 3 (ipykernel)",
   "language": "python",
   "name": "python3"
  },
  "language_info": {
   "codemirror_mode": {
    "name": "ipython",
    "version": 3
   },
   "file_extension": ".py",
   "mimetype": "text/x-python",
   "name": "python",
   "nbconvert_exporter": "python",
   "pygments_lexer": "ipython3",
   "version": "3.11.3"
  }
 },
 "nbformat": 4,
 "nbformat_minor": 5
}
