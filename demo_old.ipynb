{
 "cells": [
  {
   "cell_type": "markdown",
   "id": "b8ab5729-357b-4190-b9a7-c0548a964f0c",
   "metadata": {},
   "source": [
    "# LlamaIndex <> Bedrock"
   ]
  },
  {
   "cell_type": "markdown",
   "id": "e3fb0876-59f2-4cbc-a0d3-e3ffe35ec1bb",
   "metadata": {},
   "source": [
    "### Setup environment"
   ]
  },
  {
   "cell_type": "code",
   "execution_count": 10,
   "id": "1a14f85d-2cdb-4e1b-8742-ceb3c16ef796",
   "metadata": {},
   "outputs": [],
   "source": [
    "import nest_asyncio\n",
    "nest_asyncio.apply()"
   ]
  },
  {
   "cell_type": "code",
   "execution_count": 5,
   "id": "50d9c7d7-d457-4020-9a7d-e2ec3b3e18f0",
   "metadata": {
    "scrolled": true
   },
   "outputs": [
    {
     "name": "stdout",
     "output_type": "stream",
     "text": [
      "Requirement already satisfied: llama-index-llms-bedrock in /Users/suo/dev/odr-poc/.env/lib/python3.11/site-packages (0.1.6)\n",
      "Requirement already satisfied: boto3<2.0.0,>=1.34.26 in /Users/suo/dev/odr-poc/.env/lib/python3.11/site-packages (from llama-index-llms-bedrock) (1.34.85)\n",
      "Requirement already satisfied: llama-index-core<0.11.0,>=0.10.1 in /Users/suo/dev/odr-poc/.env/lib/python3.11/site-packages (from llama-index-llms-bedrock) (0.10.28)\n",
      "Requirement already satisfied: llama-index-llms-anthropic<0.2.0,>=0.1.7 in /Users/suo/dev/odr-poc/.env/lib/python3.11/site-packages (from llama-index-llms-bedrock) (0.1.10)\n",
      "Requirement already satisfied: botocore<1.35.0,>=1.34.85 in /Users/suo/dev/odr-poc/.env/lib/python3.11/site-packages (from boto3<2.0.0,>=1.34.26->llama-index-llms-bedrock) (1.34.85)\n",
      "Requirement already satisfied: jmespath<2.0.0,>=0.7.1 in /Users/suo/dev/odr-poc/.env/lib/python3.11/site-packages (from boto3<2.0.0,>=1.34.26->llama-index-llms-bedrock) (1.0.1)\n",
      "Requirement already satisfied: s3transfer<0.11.0,>=0.10.0 in /Users/suo/dev/odr-poc/.env/lib/python3.11/site-packages (from boto3<2.0.0,>=1.34.26->llama-index-llms-bedrock) (0.10.1)\n",
      "Requirement already satisfied: PyYAML>=6.0.1 in /Users/suo/dev/odr-poc/.env/lib/python3.11/site-packages (from llama-index-core<0.11.0,>=0.10.1->llama-index-llms-bedrock) (6.0.1)\n",
      "Requirement already satisfied: SQLAlchemy[asyncio]>=1.4.49 in /Users/suo/dev/odr-poc/.env/lib/python3.11/site-packages (from llama-index-core<0.11.0,>=0.10.1->llama-index-llms-bedrock) (2.0.29)\n",
      "Requirement already satisfied: aiohttp<4.0.0,>=3.8.6 in /Users/suo/dev/odr-poc/.env/lib/python3.11/site-packages (from llama-index-core<0.11.0,>=0.10.1->llama-index-llms-bedrock) (3.9.4)\n",
      "Requirement already satisfied: dataclasses-json in /Users/suo/dev/odr-poc/.env/lib/python3.11/site-packages (from llama-index-core<0.11.0,>=0.10.1->llama-index-llms-bedrock) (0.6.4)\n",
      "Requirement already satisfied: deprecated>=1.2.9.3 in /Users/suo/dev/odr-poc/.env/lib/python3.11/site-packages (from llama-index-core<0.11.0,>=0.10.1->llama-index-llms-bedrock) (1.2.14)\n",
      "Requirement already satisfied: dirtyjson<2.0.0,>=1.0.8 in /Users/suo/dev/odr-poc/.env/lib/python3.11/site-packages (from llama-index-core<0.11.0,>=0.10.1->llama-index-llms-bedrock) (1.0.8)\n",
      "Requirement already satisfied: fsspec>=2023.5.0 in /Users/suo/dev/odr-poc/.env/lib/python3.11/site-packages (from llama-index-core<0.11.0,>=0.10.1->llama-index-llms-bedrock) (2024.3.1)\n",
      "Requirement already satisfied: httpx in /Users/suo/dev/odr-poc/.env/lib/python3.11/site-packages (from llama-index-core<0.11.0,>=0.10.1->llama-index-llms-bedrock) (0.27.0)\n",
      "Requirement already satisfied: llamaindex-py-client<0.2.0,>=0.1.16 in /Users/suo/dev/odr-poc/.env/lib/python3.11/site-packages (from llama-index-core<0.11.0,>=0.10.1->llama-index-llms-bedrock) (0.1.17)\n",
      "Requirement already satisfied: nest-asyncio<2.0.0,>=1.5.8 in /Users/suo/dev/odr-poc/.env/lib/python3.11/site-packages (from llama-index-core<0.11.0,>=0.10.1->llama-index-llms-bedrock) (1.6.0)\n",
      "Requirement already satisfied: networkx>=3.0 in /Users/suo/dev/odr-poc/.env/lib/python3.11/site-packages (from llama-index-core<0.11.0,>=0.10.1->llama-index-llms-bedrock) (3.3)\n",
      "Requirement already satisfied: nltk<4.0.0,>=3.8.1 in /Users/suo/dev/odr-poc/.env/lib/python3.11/site-packages (from llama-index-core<0.11.0,>=0.10.1->llama-index-llms-bedrock) (3.8.1)\n",
      "Requirement already satisfied: numpy in /Users/suo/dev/odr-poc/.env/lib/python3.11/site-packages (from llama-index-core<0.11.0,>=0.10.1->llama-index-llms-bedrock) (1.26.4)\n",
      "Requirement already satisfied: openai>=1.1.0 in /Users/suo/dev/odr-poc/.env/lib/python3.11/site-packages (from llama-index-core<0.11.0,>=0.10.1->llama-index-llms-bedrock) (1.17.0)\n",
      "Requirement already satisfied: pandas in /Users/suo/dev/odr-poc/.env/lib/python3.11/site-packages (from llama-index-core<0.11.0,>=0.10.1->llama-index-llms-bedrock) (2.2.2)\n",
      "Requirement already satisfied: pillow>=9.0.0 in /Users/suo/dev/odr-poc/.env/lib/python3.11/site-packages (from llama-index-core<0.11.0,>=0.10.1->llama-index-llms-bedrock) (10.3.0)\n",
      "Requirement already satisfied: requests>=2.31.0 in /Users/suo/dev/odr-poc/.env/lib/python3.11/site-packages (from llama-index-core<0.11.0,>=0.10.1->llama-index-llms-bedrock) (2.31.0)\n",
      "Requirement already satisfied: tenacity<9.0.0,>=8.2.0 in /Users/suo/dev/odr-poc/.env/lib/python3.11/site-packages (from llama-index-core<0.11.0,>=0.10.1->llama-index-llms-bedrock) (8.2.3)\n",
      "Requirement already satisfied: tiktoken>=0.3.3 in /Users/suo/dev/odr-poc/.env/lib/python3.11/site-packages (from llama-index-core<0.11.0,>=0.10.1->llama-index-llms-bedrock) (0.6.0)\n",
      "Requirement already satisfied: tqdm<5.0.0,>=4.66.1 in /Users/suo/dev/odr-poc/.env/lib/python3.11/site-packages (from llama-index-core<0.11.0,>=0.10.1->llama-index-llms-bedrock) (4.66.2)\n",
      "Requirement already satisfied: typing-extensions>=4.5.0 in /Users/suo/dev/odr-poc/.env/lib/python3.11/site-packages (from llama-index-core<0.11.0,>=0.10.1->llama-index-llms-bedrock) (4.11.0)\n",
      "Requirement already satisfied: typing-inspect>=0.8.0 in /Users/suo/dev/odr-poc/.env/lib/python3.11/site-packages (from llama-index-core<0.11.0,>=0.10.1->llama-index-llms-bedrock) (0.9.0)\n",
      "Requirement already satisfied: wrapt in /Users/suo/dev/odr-poc/.env/lib/python3.11/site-packages (from llama-index-core<0.11.0,>=0.10.1->llama-index-llms-bedrock) (1.16.0)\n",
      "Requirement already satisfied: anthropic<0.24.0,>=0.23.1 in /Users/suo/dev/odr-poc/.env/lib/python3.11/site-packages (from llama-index-llms-anthropic<0.2.0,>=0.1.7->llama-index-llms-bedrock) (0.23.1)\n",
      "Requirement already satisfied: aiosignal>=1.1.2 in /Users/suo/dev/odr-poc/.env/lib/python3.11/site-packages (from aiohttp<4.0.0,>=3.8.6->llama-index-core<0.11.0,>=0.10.1->llama-index-llms-bedrock) (1.3.1)\n",
      "Requirement already satisfied: attrs>=17.3.0 in /Users/suo/dev/odr-poc/.env/lib/python3.11/site-packages (from aiohttp<4.0.0,>=3.8.6->llama-index-core<0.11.0,>=0.10.1->llama-index-llms-bedrock) (23.2.0)\n",
      "Requirement already satisfied: frozenlist>=1.1.1 in /Users/suo/dev/odr-poc/.env/lib/python3.11/site-packages (from aiohttp<4.0.0,>=3.8.6->llama-index-core<0.11.0,>=0.10.1->llama-index-llms-bedrock) (1.4.1)\n",
      "Requirement already satisfied: multidict<7.0,>=4.5 in /Users/suo/dev/odr-poc/.env/lib/python3.11/site-packages (from aiohttp<4.0.0,>=3.8.6->llama-index-core<0.11.0,>=0.10.1->llama-index-llms-bedrock) (6.0.5)\n",
      "Requirement already satisfied: yarl<2.0,>=1.0 in /Users/suo/dev/odr-poc/.env/lib/python3.11/site-packages (from aiohttp<4.0.0,>=3.8.6->llama-index-core<0.11.0,>=0.10.1->llama-index-llms-bedrock) (1.9.4)\n",
      "Requirement already satisfied: anyio<5,>=3.5.0 in /Users/suo/dev/odr-poc/.env/lib/python3.11/site-packages (from anthropic<0.24.0,>=0.23.1->llama-index-llms-anthropic<0.2.0,>=0.1.7->llama-index-llms-bedrock) (4.3.0)\n",
      "Requirement already satisfied: distro<2,>=1.7.0 in /Users/suo/dev/odr-poc/.env/lib/python3.11/site-packages (from anthropic<0.24.0,>=0.23.1->llama-index-llms-anthropic<0.2.0,>=0.1.7->llama-index-llms-bedrock) (1.9.0)\n",
      "Requirement already satisfied: pydantic<3,>=1.9.0 in /Users/suo/dev/odr-poc/.env/lib/python3.11/site-packages (from anthropic<0.24.0,>=0.23.1->llama-index-llms-anthropic<0.2.0,>=0.1.7->llama-index-llms-bedrock) (2.7.0)\n",
      "Requirement already satisfied: sniffio in /Users/suo/dev/odr-poc/.env/lib/python3.11/site-packages (from anthropic<0.24.0,>=0.23.1->llama-index-llms-anthropic<0.2.0,>=0.1.7->llama-index-llms-bedrock) (1.3.1)\n",
      "Requirement already satisfied: tokenizers>=0.13.0 in /Users/suo/dev/odr-poc/.env/lib/python3.11/site-packages (from anthropic<0.24.0,>=0.23.1->llama-index-llms-anthropic<0.2.0,>=0.1.7->llama-index-llms-bedrock) (0.19.0)\n",
      "Requirement already satisfied: python-dateutil<3.0.0,>=2.1 in /Users/suo/dev/odr-poc/.env/lib/python3.11/site-packages (from botocore<1.35.0,>=1.34.85->boto3<2.0.0,>=1.34.26->llama-index-llms-bedrock) (2.9.0.post0)\n",
      "Requirement already satisfied: urllib3!=2.2.0,<3,>=1.25.4 in /Users/suo/dev/odr-poc/.env/lib/python3.11/site-packages (from botocore<1.35.0,>=1.34.85->boto3<2.0.0,>=1.34.26->llama-index-llms-bedrock) (2.2.1)\n",
      "Requirement already satisfied: certifi in /Users/suo/dev/odr-poc/.env/lib/python3.11/site-packages (from httpx->llama-index-core<0.11.0,>=0.10.1->llama-index-llms-bedrock) (2024.2.2)\n",
      "Requirement already satisfied: httpcore==1.* in /Users/suo/dev/odr-poc/.env/lib/python3.11/site-packages (from httpx->llama-index-core<0.11.0,>=0.10.1->llama-index-llms-bedrock) (1.0.5)\n",
      "Requirement already satisfied: idna in /Users/suo/dev/odr-poc/.env/lib/python3.11/site-packages (from httpx->llama-index-core<0.11.0,>=0.10.1->llama-index-llms-bedrock) (3.7)\n",
      "Requirement already satisfied: h11<0.15,>=0.13 in /Users/suo/dev/odr-poc/.env/lib/python3.11/site-packages (from httpcore==1.*->httpx->llama-index-core<0.11.0,>=0.10.1->llama-index-llms-bedrock) (0.14.0)\n",
      "Requirement already satisfied: click in /Users/suo/dev/odr-poc/.env/lib/python3.11/site-packages (from nltk<4.0.0,>=3.8.1->llama-index-core<0.11.0,>=0.10.1->llama-index-llms-bedrock) (8.1.7)\n",
      "Requirement already satisfied: joblib in /Users/suo/dev/odr-poc/.env/lib/python3.11/site-packages (from nltk<4.0.0,>=3.8.1->llama-index-core<0.11.0,>=0.10.1->llama-index-llms-bedrock) (1.4.0)\n",
      "Requirement already satisfied: regex>=2021.8.3 in /Users/suo/dev/odr-poc/.env/lib/python3.11/site-packages (from nltk<4.0.0,>=3.8.1->llama-index-core<0.11.0,>=0.10.1->llama-index-llms-bedrock) (2023.12.25)\n",
      "Requirement already satisfied: charset-normalizer<4,>=2 in /Users/suo/dev/odr-poc/.env/lib/python3.11/site-packages (from requests>=2.31.0->llama-index-core<0.11.0,>=0.10.1->llama-index-llms-bedrock) (3.3.2)\n",
      "Requirement already satisfied: greenlet!=0.4.17 in /Users/suo/dev/odr-poc/.env/lib/python3.11/site-packages (from SQLAlchemy[asyncio]>=1.4.49->llama-index-core<0.11.0,>=0.10.1->llama-index-llms-bedrock) (3.0.3)\n",
      "Requirement already satisfied: mypy-extensions>=0.3.0 in /Users/suo/dev/odr-poc/.env/lib/python3.11/site-packages (from typing-inspect>=0.8.0->llama-index-core<0.11.0,>=0.10.1->llama-index-llms-bedrock) (1.0.0)\n",
      "Requirement already satisfied: marshmallow<4.0.0,>=3.18.0 in /Users/suo/dev/odr-poc/.env/lib/python3.11/site-packages (from dataclasses-json->llama-index-core<0.11.0,>=0.10.1->llama-index-llms-bedrock) (3.21.1)\n",
      "Requirement already satisfied: pytz>=2020.1 in /Users/suo/dev/odr-poc/.env/lib/python3.11/site-packages (from pandas->llama-index-core<0.11.0,>=0.10.1->llama-index-llms-bedrock) (2024.1)\n",
      "Requirement already satisfied: tzdata>=2022.7 in /Users/suo/dev/odr-poc/.env/lib/python3.11/site-packages (from pandas->llama-index-core<0.11.0,>=0.10.1->llama-index-llms-bedrock) (2024.1)\n",
      "Requirement already satisfied: packaging>=17.0 in /Users/suo/dev/odr-poc/.env/lib/python3.11/site-packages (from marshmallow<4.0.0,>=3.18.0->dataclasses-json->llama-index-core<0.11.0,>=0.10.1->llama-index-llms-bedrock) (24.0)\n",
      "Requirement already satisfied: annotated-types>=0.4.0 in /Users/suo/dev/odr-poc/.env/lib/python3.11/site-packages (from pydantic<3,>=1.9.0->anthropic<0.24.0,>=0.23.1->llama-index-llms-anthropic<0.2.0,>=0.1.7->llama-index-llms-bedrock) (0.6.0)\n",
      "Requirement already satisfied: pydantic-core==2.18.1 in /Users/suo/dev/odr-poc/.env/lib/python3.11/site-packages (from pydantic<3,>=1.9.0->anthropic<0.24.0,>=0.23.1->llama-index-llms-anthropic<0.2.0,>=0.1.7->llama-index-llms-bedrock) (2.18.1)\n",
      "Requirement already satisfied: six>=1.5 in /Users/suo/dev/odr-poc/.env/lib/python3.11/site-packages (from python-dateutil<3.0.0,>=2.1->botocore<1.35.0,>=1.34.85->boto3<2.0.0,>=1.34.26->llama-index-llms-bedrock) (1.16.0)\n",
      "Requirement already satisfied: huggingface-hub<1.0,>=0.16.4 in /Users/suo/dev/odr-poc/.env/lib/python3.11/site-packages (from tokenizers>=0.13.0->anthropic<0.24.0,>=0.23.1->llama-index-llms-anthropic<0.2.0,>=0.1.7->llama-index-llms-bedrock) (0.22.2)\n",
      "Requirement already satisfied: filelock in /Users/suo/dev/odr-poc/.env/lib/python3.11/site-packages (from huggingface-hub<1.0,>=0.16.4->tokenizers>=0.13.0->anthropic<0.24.0,>=0.23.1->llama-index-llms-anthropic<0.2.0,>=0.1.7->llama-index-llms-bedrock) (3.13.4)\n",
      "\n",
      "\u001b[1m[\u001b[0m\u001b[34;49mnotice\u001b[0m\u001b[1;39;49m]\u001b[0m\u001b[39;49m A new release of pip available: \u001b[0m\u001b[31;49m22.3.1\u001b[0m\u001b[39;49m -> \u001b[0m\u001b[32;49m24.0\u001b[0m\n",
      "\u001b[1m[\u001b[0m\u001b[34;49mnotice\u001b[0m\u001b[1;39;49m]\u001b[0m\u001b[39;49m To update, run: \u001b[0m\u001b[32;49mpip install --upgrade pip\u001b[0m\n",
      "Note: you may need to restart the kernel to use updated packages.\n",
      "Requirement already satisfied: llama-index-retrievers-bedrock in /Users/suo/dev/odr-poc/.env/lib/python3.11/site-packages (0.1.0)\n",
      "Requirement already satisfied: llama-index-core<0.11.0,>=0.10.0 in /Users/suo/dev/odr-poc/.env/lib/python3.11/site-packages (from llama-index-retrievers-bedrock) (0.10.28)\n",
      "Requirement already satisfied: PyYAML>=6.0.1 in /Users/suo/dev/odr-poc/.env/lib/python3.11/site-packages (from llama-index-core<0.11.0,>=0.10.0->llama-index-retrievers-bedrock) (6.0.1)\n",
      "Requirement already satisfied: SQLAlchemy[asyncio]>=1.4.49 in /Users/suo/dev/odr-poc/.env/lib/python3.11/site-packages (from llama-index-core<0.11.0,>=0.10.0->llama-index-retrievers-bedrock) (2.0.29)\n",
      "Requirement already satisfied: aiohttp<4.0.0,>=3.8.6 in /Users/suo/dev/odr-poc/.env/lib/python3.11/site-packages (from llama-index-core<0.11.0,>=0.10.0->llama-index-retrievers-bedrock) (3.9.4)\n",
      "Requirement already satisfied: dataclasses-json in /Users/suo/dev/odr-poc/.env/lib/python3.11/site-packages (from llama-index-core<0.11.0,>=0.10.0->llama-index-retrievers-bedrock) (0.6.4)\n",
      "Requirement already satisfied: deprecated>=1.2.9.3 in /Users/suo/dev/odr-poc/.env/lib/python3.11/site-packages (from llama-index-core<0.11.0,>=0.10.0->llama-index-retrievers-bedrock) (1.2.14)\n",
      "Requirement already satisfied: dirtyjson<2.0.0,>=1.0.8 in /Users/suo/dev/odr-poc/.env/lib/python3.11/site-packages (from llama-index-core<0.11.0,>=0.10.0->llama-index-retrievers-bedrock) (1.0.8)\n",
      "Requirement already satisfied: fsspec>=2023.5.0 in /Users/suo/dev/odr-poc/.env/lib/python3.11/site-packages (from llama-index-core<0.11.0,>=0.10.0->llama-index-retrievers-bedrock) (2024.3.1)\n",
      "Requirement already satisfied: httpx in /Users/suo/dev/odr-poc/.env/lib/python3.11/site-packages (from llama-index-core<0.11.0,>=0.10.0->llama-index-retrievers-bedrock) (0.27.0)\n",
      "Requirement already satisfied: llamaindex-py-client<0.2.0,>=0.1.16 in /Users/suo/dev/odr-poc/.env/lib/python3.11/site-packages (from llama-index-core<0.11.0,>=0.10.0->llama-index-retrievers-bedrock) (0.1.17)\n",
      "Requirement already satisfied: nest-asyncio<2.0.0,>=1.5.8 in /Users/suo/dev/odr-poc/.env/lib/python3.11/site-packages (from llama-index-core<0.11.0,>=0.10.0->llama-index-retrievers-bedrock) (1.6.0)\n",
      "Requirement already satisfied: networkx>=3.0 in /Users/suo/dev/odr-poc/.env/lib/python3.11/site-packages (from llama-index-core<0.11.0,>=0.10.0->llama-index-retrievers-bedrock) (3.3)\n",
      "Requirement already satisfied: nltk<4.0.0,>=3.8.1 in /Users/suo/dev/odr-poc/.env/lib/python3.11/site-packages (from llama-index-core<0.11.0,>=0.10.0->llama-index-retrievers-bedrock) (3.8.1)\n",
      "Requirement already satisfied: numpy in /Users/suo/dev/odr-poc/.env/lib/python3.11/site-packages (from llama-index-core<0.11.0,>=0.10.0->llama-index-retrievers-bedrock) (1.26.4)\n",
      "Requirement already satisfied: openai>=1.1.0 in /Users/suo/dev/odr-poc/.env/lib/python3.11/site-packages (from llama-index-core<0.11.0,>=0.10.0->llama-index-retrievers-bedrock) (1.17.0)\n",
      "Requirement already satisfied: pandas in /Users/suo/dev/odr-poc/.env/lib/python3.11/site-packages (from llama-index-core<0.11.0,>=0.10.0->llama-index-retrievers-bedrock) (2.2.2)\n",
      "Requirement already satisfied: pillow>=9.0.0 in /Users/suo/dev/odr-poc/.env/lib/python3.11/site-packages (from llama-index-core<0.11.0,>=0.10.0->llama-index-retrievers-bedrock) (10.3.0)\n",
      "Requirement already satisfied: requests>=2.31.0 in /Users/suo/dev/odr-poc/.env/lib/python3.11/site-packages (from llama-index-core<0.11.0,>=0.10.0->llama-index-retrievers-bedrock) (2.31.0)\n",
      "Requirement already satisfied: tenacity<9.0.0,>=8.2.0 in /Users/suo/dev/odr-poc/.env/lib/python3.11/site-packages (from llama-index-core<0.11.0,>=0.10.0->llama-index-retrievers-bedrock) (8.2.3)\n",
      "Requirement already satisfied: tiktoken>=0.3.3 in /Users/suo/dev/odr-poc/.env/lib/python3.11/site-packages (from llama-index-core<0.11.0,>=0.10.0->llama-index-retrievers-bedrock) (0.6.0)\n",
      "Requirement already satisfied: tqdm<5.0.0,>=4.66.1 in /Users/suo/dev/odr-poc/.env/lib/python3.11/site-packages (from llama-index-core<0.11.0,>=0.10.0->llama-index-retrievers-bedrock) (4.66.2)\n",
      "Requirement already satisfied: typing-extensions>=4.5.0 in /Users/suo/dev/odr-poc/.env/lib/python3.11/site-packages (from llama-index-core<0.11.0,>=0.10.0->llama-index-retrievers-bedrock) (4.11.0)\n",
      "Requirement already satisfied: typing-inspect>=0.8.0 in /Users/suo/dev/odr-poc/.env/lib/python3.11/site-packages (from llama-index-core<0.11.0,>=0.10.0->llama-index-retrievers-bedrock) (0.9.0)\n",
      "Requirement already satisfied: wrapt in /Users/suo/dev/odr-poc/.env/lib/python3.11/site-packages (from llama-index-core<0.11.0,>=0.10.0->llama-index-retrievers-bedrock) (1.16.0)\n",
      "Requirement already satisfied: aiosignal>=1.1.2 in /Users/suo/dev/odr-poc/.env/lib/python3.11/site-packages (from aiohttp<4.0.0,>=3.8.6->llama-index-core<0.11.0,>=0.10.0->llama-index-retrievers-bedrock) (1.3.1)\n",
      "Requirement already satisfied: attrs>=17.3.0 in /Users/suo/dev/odr-poc/.env/lib/python3.11/site-packages (from aiohttp<4.0.0,>=3.8.6->llama-index-core<0.11.0,>=0.10.0->llama-index-retrievers-bedrock) (23.2.0)\n",
      "Requirement already satisfied: frozenlist>=1.1.1 in /Users/suo/dev/odr-poc/.env/lib/python3.11/site-packages (from aiohttp<4.0.0,>=3.8.6->llama-index-core<0.11.0,>=0.10.0->llama-index-retrievers-bedrock) (1.4.1)\n",
      "Requirement already satisfied: multidict<7.0,>=4.5 in /Users/suo/dev/odr-poc/.env/lib/python3.11/site-packages (from aiohttp<4.0.0,>=3.8.6->llama-index-core<0.11.0,>=0.10.0->llama-index-retrievers-bedrock) (6.0.5)\n",
      "Requirement already satisfied: yarl<2.0,>=1.0 in /Users/suo/dev/odr-poc/.env/lib/python3.11/site-packages (from aiohttp<4.0.0,>=3.8.6->llama-index-core<0.11.0,>=0.10.0->llama-index-retrievers-bedrock) (1.9.4)\n",
      "Requirement already satisfied: pydantic>=1.10 in /Users/suo/dev/odr-poc/.env/lib/python3.11/site-packages (from llamaindex-py-client<0.2.0,>=0.1.16->llama-index-core<0.11.0,>=0.10.0->llama-index-retrievers-bedrock) (2.7.0)\n",
      "Requirement already satisfied: anyio in /Users/suo/dev/odr-poc/.env/lib/python3.11/site-packages (from httpx->llama-index-core<0.11.0,>=0.10.0->llama-index-retrievers-bedrock) (4.3.0)\n",
      "Requirement already satisfied: certifi in /Users/suo/dev/odr-poc/.env/lib/python3.11/site-packages (from httpx->llama-index-core<0.11.0,>=0.10.0->llama-index-retrievers-bedrock) (2024.2.2)\n",
      "Requirement already satisfied: httpcore==1.* in /Users/suo/dev/odr-poc/.env/lib/python3.11/site-packages (from httpx->llama-index-core<0.11.0,>=0.10.0->llama-index-retrievers-bedrock) (1.0.5)\n",
      "Requirement already satisfied: idna in /Users/suo/dev/odr-poc/.env/lib/python3.11/site-packages (from httpx->llama-index-core<0.11.0,>=0.10.0->llama-index-retrievers-bedrock) (3.7)\n",
      "Requirement already satisfied: sniffio in /Users/suo/dev/odr-poc/.env/lib/python3.11/site-packages (from httpx->llama-index-core<0.11.0,>=0.10.0->llama-index-retrievers-bedrock) (1.3.1)\n",
      "Requirement already satisfied: h11<0.15,>=0.13 in /Users/suo/dev/odr-poc/.env/lib/python3.11/site-packages (from httpcore==1.*->httpx->llama-index-core<0.11.0,>=0.10.0->llama-index-retrievers-bedrock) (0.14.0)\n",
      "Requirement already satisfied: click in /Users/suo/dev/odr-poc/.env/lib/python3.11/site-packages (from nltk<4.0.0,>=3.8.1->llama-index-core<0.11.0,>=0.10.0->llama-index-retrievers-bedrock) (8.1.7)\n",
      "Requirement already satisfied: joblib in /Users/suo/dev/odr-poc/.env/lib/python3.11/site-packages (from nltk<4.0.0,>=3.8.1->llama-index-core<0.11.0,>=0.10.0->llama-index-retrievers-bedrock) (1.4.0)\n",
      "Requirement already satisfied: regex>=2021.8.3 in /Users/suo/dev/odr-poc/.env/lib/python3.11/site-packages (from nltk<4.0.0,>=3.8.1->llama-index-core<0.11.0,>=0.10.0->llama-index-retrievers-bedrock) (2023.12.25)\n",
      "Requirement already satisfied: distro<2,>=1.7.0 in /Users/suo/dev/odr-poc/.env/lib/python3.11/site-packages (from openai>=1.1.0->llama-index-core<0.11.0,>=0.10.0->llama-index-retrievers-bedrock) (1.9.0)\n",
      "Requirement already satisfied: charset-normalizer<4,>=2 in /Users/suo/dev/odr-poc/.env/lib/python3.11/site-packages (from requests>=2.31.0->llama-index-core<0.11.0,>=0.10.0->llama-index-retrievers-bedrock) (3.3.2)\n",
      "Requirement already satisfied: urllib3<3,>=1.21.1 in /Users/suo/dev/odr-poc/.env/lib/python3.11/site-packages (from requests>=2.31.0->llama-index-core<0.11.0,>=0.10.0->llama-index-retrievers-bedrock) (2.2.1)\n",
      "Requirement already satisfied: greenlet!=0.4.17 in /Users/suo/dev/odr-poc/.env/lib/python3.11/site-packages (from SQLAlchemy[asyncio]>=1.4.49->llama-index-core<0.11.0,>=0.10.0->llama-index-retrievers-bedrock) (3.0.3)\n",
      "Requirement already satisfied: mypy-extensions>=0.3.0 in /Users/suo/dev/odr-poc/.env/lib/python3.11/site-packages (from typing-inspect>=0.8.0->llama-index-core<0.11.0,>=0.10.0->llama-index-retrievers-bedrock) (1.0.0)\n",
      "Requirement already satisfied: marshmallow<4.0.0,>=3.18.0 in /Users/suo/dev/odr-poc/.env/lib/python3.11/site-packages (from dataclasses-json->llama-index-core<0.11.0,>=0.10.0->llama-index-retrievers-bedrock) (3.21.1)\n",
      "Requirement already satisfied: python-dateutil>=2.8.2 in /Users/suo/dev/odr-poc/.env/lib/python3.11/site-packages (from pandas->llama-index-core<0.11.0,>=0.10.0->llama-index-retrievers-bedrock) (2.9.0.post0)\n",
      "Requirement already satisfied: pytz>=2020.1 in /Users/suo/dev/odr-poc/.env/lib/python3.11/site-packages (from pandas->llama-index-core<0.11.0,>=0.10.0->llama-index-retrievers-bedrock) (2024.1)\n",
      "Requirement already satisfied: tzdata>=2022.7 in /Users/suo/dev/odr-poc/.env/lib/python3.11/site-packages (from pandas->llama-index-core<0.11.0,>=0.10.0->llama-index-retrievers-bedrock) (2024.1)\n",
      "Requirement already satisfied: packaging>=17.0 in /Users/suo/dev/odr-poc/.env/lib/python3.11/site-packages (from marshmallow<4.0.0,>=3.18.0->dataclasses-json->llama-index-core<0.11.0,>=0.10.0->llama-index-retrievers-bedrock) (24.0)\n",
      "Requirement already satisfied: annotated-types>=0.4.0 in /Users/suo/dev/odr-poc/.env/lib/python3.11/site-packages (from pydantic>=1.10->llamaindex-py-client<0.2.0,>=0.1.16->llama-index-core<0.11.0,>=0.10.0->llama-index-retrievers-bedrock) (0.6.0)\n",
      "Requirement already satisfied: pydantic-core==2.18.1 in /Users/suo/dev/odr-poc/.env/lib/python3.11/site-packages (from pydantic>=1.10->llamaindex-py-client<0.2.0,>=0.1.16->llama-index-core<0.11.0,>=0.10.0->llama-index-retrievers-bedrock) (2.18.1)\n",
      "Requirement already satisfied: six>=1.5 in /Users/suo/dev/odr-poc/.env/lib/python3.11/site-packages (from python-dateutil>=2.8.2->pandas->llama-index-core<0.11.0,>=0.10.0->llama-index-retrievers-bedrock) (1.16.0)\n",
      "\n",
      "\u001b[1m[\u001b[0m\u001b[34;49mnotice\u001b[0m\u001b[1;39;49m]\u001b[0m\u001b[39;49m A new release of pip available: \u001b[0m\u001b[31;49m22.3.1\u001b[0m\u001b[39;49m -> \u001b[0m\u001b[32;49m24.0\u001b[0m\n",
      "\u001b[1m[\u001b[0m\u001b[34;49mnotice\u001b[0m\u001b[1;39;49m]\u001b[0m\u001b[39;49m To update, run: \u001b[0m\u001b[32;49mpip install --upgrade pip\u001b[0m\n",
      "Note: you may need to restart the kernel to use updated packages.\n",
      "Collecting llama-index-vector-stores-opensearch\n",
      "  Using cached llama_index_vector_stores_opensearch-0.1.8-py3-none-any.whl (6.2 kB)\n",
      "Requirement already satisfied: llama-index-core<0.11.0,>=0.10.1 in /Users/suo/dev/odr-poc/.env/lib/python3.11/site-packages (from llama-index-vector-stores-opensearch) (0.10.28)\n",
      "Collecting opensearch-py[async]<3.0.0,>=2.4.2\n",
      "  Downloading opensearch_py-2.5.0-py2.py3-none-any.whl (266 kB)\n",
      "\u001b[2K     \u001b[38;2;114;156;31m━━━━━━━━━━━━━━━━━━━━━━━━━━━━━━━━━━━━━━━\u001b[0m \u001b[32m266.1/266.1 kB\u001b[0m \u001b[31m5.5 MB/s\u001b[0m eta \u001b[36m0:00:00\u001b[0m[31m7.7 MB/s\u001b[0m eta \u001b[36m0:00:01\u001b[0m\n",
      "\u001b[?25hRequirement already satisfied: PyYAML>=6.0.1 in /Users/suo/dev/odr-poc/.env/lib/python3.11/site-packages (from llama-index-core<0.11.0,>=0.10.1->llama-index-vector-stores-opensearch) (6.0.1)\n",
      "Requirement already satisfied: SQLAlchemy[asyncio]>=1.4.49 in /Users/suo/dev/odr-poc/.env/lib/python3.11/site-packages (from llama-index-core<0.11.0,>=0.10.1->llama-index-vector-stores-opensearch) (2.0.29)\n",
      "Requirement already satisfied: aiohttp<4.0.0,>=3.8.6 in /Users/suo/dev/odr-poc/.env/lib/python3.11/site-packages (from llama-index-core<0.11.0,>=0.10.1->llama-index-vector-stores-opensearch) (3.9.4)\n",
      "Requirement already satisfied: dataclasses-json in /Users/suo/dev/odr-poc/.env/lib/python3.11/site-packages (from llama-index-core<0.11.0,>=0.10.1->llama-index-vector-stores-opensearch) (0.6.4)\n",
      "Requirement already satisfied: deprecated>=1.2.9.3 in /Users/suo/dev/odr-poc/.env/lib/python3.11/site-packages (from llama-index-core<0.11.0,>=0.10.1->llama-index-vector-stores-opensearch) (1.2.14)\n",
      "Requirement already satisfied: dirtyjson<2.0.0,>=1.0.8 in /Users/suo/dev/odr-poc/.env/lib/python3.11/site-packages (from llama-index-core<0.11.0,>=0.10.1->llama-index-vector-stores-opensearch) (1.0.8)\n",
      "Requirement already satisfied: fsspec>=2023.5.0 in /Users/suo/dev/odr-poc/.env/lib/python3.11/site-packages (from llama-index-core<0.11.0,>=0.10.1->llama-index-vector-stores-opensearch) (2024.3.1)\n",
      "Requirement already satisfied: httpx in /Users/suo/dev/odr-poc/.env/lib/python3.11/site-packages (from llama-index-core<0.11.0,>=0.10.1->llama-index-vector-stores-opensearch) (0.27.0)\n",
      "Requirement already satisfied: llamaindex-py-client<0.2.0,>=0.1.16 in /Users/suo/dev/odr-poc/.env/lib/python3.11/site-packages (from llama-index-core<0.11.0,>=0.10.1->llama-index-vector-stores-opensearch) (0.1.17)\n",
      "Requirement already satisfied: nest-asyncio<2.0.0,>=1.5.8 in /Users/suo/dev/odr-poc/.env/lib/python3.11/site-packages (from llama-index-core<0.11.0,>=0.10.1->llama-index-vector-stores-opensearch) (1.6.0)\n",
      "Requirement already satisfied: networkx>=3.0 in /Users/suo/dev/odr-poc/.env/lib/python3.11/site-packages (from llama-index-core<0.11.0,>=0.10.1->llama-index-vector-stores-opensearch) (3.3)\n",
      "Requirement already satisfied: nltk<4.0.0,>=3.8.1 in /Users/suo/dev/odr-poc/.env/lib/python3.11/site-packages (from llama-index-core<0.11.0,>=0.10.1->llama-index-vector-stores-opensearch) (3.8.1)\n",
      "Requirement already satisfied: numpy in /Users/suo/dev/odr-poc/.env/lib/python3.11/site-packages (from llama-index-core<0.11.0,>=0.10.1->llama-index-vector-stores-opensearch) (1.26.4)\n",
      "Requirement already satisfied: openai>=1.1.0 in /Users/suo/dev/odr-poc/.env/lib/python3.11/site-packages (from llama-index-core<0.11.0,>=0.10.1->llama-index-vector-stores-opensearch) (1.17.0)\n",
      "Requirement already satisfied: pandas in /Users/suo/dev/odr-poc/.env/lib/python3.11/site-packages (from llama-index-core<0.11.0,>=0.10.1->llama-index-vector-stores-opensearch) (2.2.2)\n",
      "Requirement already satisfied: pillow>=9.0.0 in /Users/suo/dev/odr-poc/.env/lib/python3.11/site-packages (from llama-index-core<0.11.0,>=0.10.1->llama-index-vector-stores-opensearch) (10.3.0)\n",
      "Requirement already satisfied: requests>=2.31.0 in /Users/suo/dev/odr-poc/.env/lib/python3.11/site-packages (from llama-index-core<0.11.0,>=0.10.1->llama-index-vector-stores-opensearch) (2.31.0)\n",
      "Requirement already satisfied: tenacity<9.0.0,>=8.2.0 in /Users/suo/dev/odr-poc/.env/lib/python3.11/site-packages (from llama-index-core<0.11.0,>=0.10.1->llama-index-vector-stores-opensearch) (8.2.3)\n",
      "Requirement already satisfied: tiktoken>=0.3.3 in /Users/suo/dev/odr-poc/.env/lib/python3.11/site-packages (from llama-index-core<0.11.0,>=0.10.1->llama-index-vector-stores-opensearch) (0.6.0)\n",
      "Requirement already satisfied: tqdm<5.0.0,>=4.66.1 in /Users/suo/dev/odr-poc/.env/lib/python3.11/site-packages (from llama-index-core<0.11.0,>=0.10.1->llama-index-vector-stores-opensearch) (4.66.2)\n",
      "Requirement already satisfied: typing-extensions>=4.5.0 in /Users/suo/dev/odr-poc/.env/lib/python3.11/site-packages (from llama-index-core<0.11.0,>=0.10.1->llama-index-vector-stores-opensearch) (4.11.0)\n",
      "Requirement already satisfied: typing-inspect>=0.8.0 in /Users/suo/dev/odr-poc/.env/lib/python3.11/site-packages (from llama-index-core<0.11.0,>=0.10.1->llama-index-vector-stores-opensearch) (0.9.0)\n",
      "Requirement already satisfied: wrapt in /Users/suo/dev/odr-poc/.env/lib/python3.11/site-packages (from llama-index-core<0.11.0,>=0.10.1->llama-index-vector-stores-opensearch) (1.16.0)\n",
      "Collecting urllib3<2,>=1.26.18\n",
      "  Using cached urllib3-1.26.18-py2.py3-none-any.whl (143 kB)\n",
      "Requirement already satisfied: six in /Users/suo/dev/odr-poc/.env/lib/python3.11/site-packages (from opensearch-py[async]<3.0.0,>=2.4.2->llama-index-vector-stores-opensearch) (1.16.0)\n",
      "Requirement already satisfied: python-dateutil in /Users/suo/dev/odr-poc/.env/lib/python3.11/site-packages (from opensearch-py[async]<3.0.0,>=2.4.2->llama-index-vector-stores-opensearch) (2.9.0.post0)\n",
      "Requirement already satisfied: certifi>=2022.12.07 in /Users/suo/dev/odr-poc/.env/lib/python3.11/site-packages (from opensearch-py[async]<3.0.0,>=2.4.2->llama-index-vector-stores-opensearch) (2024.2.2)\n",
      "Requirement already satisfied: aiosignal>=1.1.2 in /Users/suo/dev/odr-poc/.env/lib/python3.11/site-packages (from aiohttp<4.0.0,>=3.8.6->llama-index-core<0.11.0,>=0.10.1->llama-index-vector-stores-opensearch) (1.3.1)\n",
      "Requirement already satisfied: attrs>=17.3.0 in /Users/suo/dev/odr-poc/.env/lib/python3.11/site-packages (from aiohttp<4.0.0,>=3.8.6->llama-index-core<0.11.0,>=0.10.1->llama-index-vector-stores-opensearch) (23.2.0)\n",
      "Requirement already satisfied: frozenlist>=1.1.1 in /Users/suo/dev/odr-poc/.env/lib/python3.11/site-packages (from aiohttp<4.0.0,>=3.8.6->llama-index-core<0.11.0,>=0.10.1->llama-index-vector-stores-opensearch) (1.4.1)\n",
      "Requirement already satisfied: multidict<7.0,>=4.5 in /Users/suo/dev/odr-poc/.env/lib/python3.11/site-packages (from aiohttp<4.0.0,>=3.8.6->llama-index-core<0.11.0,>=0.10.1->llama-index-vector-stores-opensearch) (6.0.5)\n",
      "Requirement already satisfied: yarl<2.0,>=1.0 in /Users/suo/dev/odr-poc/.env/lib/python3.11/site-packages (from aiohttp<4.0.0,>=3.8.6->llama-index-core<0.11.0,>=0.10.1->llama-index-vector-stores-opensearch) (1.9.4)\n",
      "Requirement already satisfied: pydantic>=1.10 in /Users/suo/dev/odr-poc/.env/lib/python3.11/site-packages (from llamaindex-py-client<0.2.0,>=0.1.16->llama-index-core<0.11.0,>=0.10.1->llama-index-vector-stores-opensearch) (2.7.0)\n",
      "Requirement already satisfied: anyio in /Users/suo/dev/odr-poc/.env/lib/python3.11/site-packages (from httpx->llama-index-core<0.11.0,>=0.10.1->llama-index-vector-stores-opensearch) (4.3.0)\n",
      "Requirement already satisfied: httpcore==1.* in /Users/suo/dev/odr-poc/.env/lib/python3.11/site-packages (from httpx->llama-index-core<0.11.0,>=0.10.1->llama-index-vector-stores-opensearch) (1.0.5)\n",
      "Requirement already satisfied: idna in /Users/suo/dev/odr-poc/.env/lib/python3.11/site-packages (from httpx->llama-index-core<0.11.0,>=0.10.1->llama-index-vector-stores-opensearch) (3.7)\n",
      "Requirement already satisfied: sniffio in /Users/suo/dev/odr-poc/.env/lib/python3.11/site-packages (from httpx->llama-index-core<0.11.0,>=0.10.1->llama-index-vector-stores-opensearch) (1.3.1)\n",
      "Requirement already satisfied: h11<0.15,>=0.13 in /Users/suo/dev/odr-poc/.env/lib/python3.11/site-packages (from httpcore==1.*->httpx->llama-index-core<0.11.0,>=0.10.1->llama-index-vector-stores-opensearch) (0.14.0)\n",
      "Requirement already satisfied: click in /Users/suo/dev/odr-poc/.env/lib/python3.11/site-packages (from nltk<4.0.0,>=3.8.1->llama-index-core<0.11.0,>=0.10.1->llama-index-vector-stores-opensearch) (8.1.7)\n",
      "Requirement already satisfied: joblib in /Users/suo/dev/odr-poc/.env/lib/python3.11/site-packages (from nltk<4.0.0,>=3.8.1->llama-index-core<0.11.0,>=0.10.1->llama-index-vector-stores-opensearch) (1.4.0)\n",
      "Requirement already satisfied: regex>=2021.8.3 in /Users/suo/dev/odr-poc/.env/lib/python3.11/site-packages (from nltk<4.0.0,>=3.8.1->llama-index-core<0.11.0,>=0.10.1->llama-index-vector-stores-opensearch) (2023.12.25)\n",
      "Requirement already satisfied: distro<2,>=1.7.0 in /Users/suo/dev/odr-poc/.env/lib/python3.11/site-packages (from openai>=1.1.0->llama-index-core<0.11.0,>=0.10.1->llama-index-vector-stores-opensearch) (1.9.0)\n",
      "Requirement already satisfied: charset-normalizer<4,>=2 in /Users/suo/dev/odr-poc/.env/lib/python3.11/site-packages (from requests>=2.31.0->llama-index-core<0.11.0,>=0.10.1->llama-index-vector-stores-opensearch) (3.3.2)\n",
      "Requirement already satisfied: greenlet!=0.4.17 in /Users/suo/dev/odr-poc/.env/lib/python3.11/site-packages (from SQLAlchemy[asyncio]>=1.4.49->llama-index-core<0.11.0,>=0.10.1->llama-index-vector-stores-opensearch) (3.0.3)\n",
      "Requirement already satisfied: mypy-extensions>=0.3.0 in /Users/suo/dev/odr-poc/.env/lib/python3.11/site-packages (from typing-inspect>=0.8.0->llama-index-core<0.11.0,>=0.10.1->llama-index-vector-stores-opensearch) (1.0.0)\n",
      "Requirement already satisfied: marshmallow<4.0.0,>=3.18.0 in /Users/suo/dev/odr-poc/.env/lib/python3.11/site-packages (from dataclasses-json->llama-index-core<0.11.0,>=0.10.1->llama-index-vector-stores-opensearch) (3.21.1)\n",
      "Requirement already satisfied: pytz>=2020.1 in /Users/suo/dev/odr-poc/.env/lib/python3.11/site-packages (from pandas->llama-index-core<0.11.0,>=0.10.1->llama-index-vector-stores-opensearch) (2024.1)\n",
      "Requirement already satisfied: tzdata>=2022.7 in /Users/suo/dev/odr-poc/.env/lib/python3.11/site-packages (from pandas->llama-index-core<0.11.0,>=0.10.1->llama-index-vector-stores-opensearch) (2024.1)\n",
      "Requirement already satisfied: packaging>=17.0 in /Users/suo/dev/odr-poc/.env/lib/python3.11/site-packages (from marshmallow<4.0.0,>=3.18.0->dataclasses-json->llama-index-core<0.11.0,>=0.10.1->llama-index-vector-stores-opensearch) (24.0)\n",
      "Requirement already satisfied: annotated-types>=0.4.0 in /Users/suo/dev/odr-poc/.env/lib/python3.11/site-packages (from pydantic>=1.10->llamaindex-py-client<0.2.0,>=0.1.16->llama-index-core<0.11.0,>=0.10.1->llama-index-vector-stores-opensearch) (0.6.0)\n",
      "Requirement already satisfied: pydantic-core==2.18.1 in /Users/suo/dev/odr-poc/.env/lib/python3.11/site-packages (from pydantic>=1.10->llamaindex-py-client<0.2.0,>=0.1.16->llama-index-core<0.11.0,>=0.10.1->llama-index-vector-stores-opensearch) (2.18.1)\n",
      "Installing collected packages: urllib3, opensearch-py, llama-index-vector-stores-opensearch\n",
      "  Attempting uninstall: urllib3\n",
      "    Found existing installation: urllib3 2.2.1\n",
      "    Uninstalling urllib3-2.2.1:\n",
      "      Successfully uninstalled urllib3-2.2.1\n",
      "Successfully installed llama-index-vector-stores-opensearch-0.1.8 opensearch-py-2.5.0 urllib3-1.26.18\n",
      "\n",
      "\u001b[1m[\u001b[0m\u001b[34;49mnotice\u001b[0m\u001b[1;39;49m]\u001b[0m\u001b[39;49m A new release of pip available: \u001b[0m\u001b[31;49m22.3.1\u001b[0m\u001b[39;49m -> \u001b[0m\u001b[32;49m24.0\u001b[0m\n",
      "\u001b[1m[\u001b[0m\u001b[34;49mnotice\u001b[0m\u001b[1;39;49m]\u001b[0m\u001b[39;49m To update, run: \u001b[0m\u001b[32;49mpip install --upgrade pip\u001b[0m\n",
      "Note: you may need to restart the kernel to use updated packages.\n"
     ]
    }
   ],
   "source": [
    "%pip install llama-index-llms-bedrock\n",
    "%pip install llama-index-retrievers-bedrock\n",
    "%pip install llama-index-vector-stores-opensearch\n",
    "%pip install requests-aws4auth"
   ]
  },
  {
   "cell_type": "markdown",
   "id": "96b798a4-58e1-4ce8-b7b6-bb96fb42962e",
   "metadata": {
    "jp-MarkdownHeadingCollapsed": true
   },
   "source": [
    "### Configure OpenSearch and create collection"
   ]
  },
  {
   "cell_type": "markdown",
   "id": "5d221a48-37dc-4e45-96a8-b12fd464e051",
   "metadata": {},
   "source": [
    "1. Go to Amazon OpenSearch Service\n",
    "2. Select serverless, get started\n",
    "3. create collection (using \"rag-bedrock\" as collection name)  \n",
    "wait for collection to create, takes ~5 mins\n",
    "\n",
    "\n",
    "Or alternatively, do this programmatically as below."
   ]
  },
  {
   "cell_type": "code",
   "execution_count": 1,
   "id": "6b43caf8-d3a0-4c89-8f2b-b44ccbf04d4b",
   "metadata": {},
   "outputs": [],
   "source": [
    "import boto3\n",
    "import botocore\n",
    "from requests_aws4auth import AWS4Auth\n",
    "\n",
    "client = boto3.client('opensearchserverless')\n",
    "\n",
    "service = 'aoss'\n",
    "region = 'us-east-2'\n",
    "credentials = boto3.Session().get_credentials()\n",
    "awsauth = AWS4Auth(credentials.access_key, credentials.secret_key,\n",
    "                   region, service, session_token=credentials.token)"
   ]
  },
  {
   "cell_type": "code",
   "execution_count": 104,
   "id": "b25c179c-bba9-49e4-9dfc-90166b55985f",
   "metadata": {},
   "outputs": [],
   "source": [
    "import time \n",
    "\n",
    "def createEncryptionPolicy(client):\n",
    "    \"\"\"Creates an encryption policy that matches all collections beginning with tv-\"\"\"\n",
    "    try:\n",
    "        response = client.create_security_policy(\n",
    "            description='Encryption policy for TV collections',\n",
    "            name='tv-policy',\n",
    "            policy=\"\"\"\n",
    "                {\n",
    "                    \\\"Rules\\\":[\n",
    "                        {\n",
    "                            \\\"ResourceType\\\":\\\"collection\\\",\n",
    "                            \\\"Resource\\\":[\n",
    "                                \\\"collection\\/tv-*\\\"\n",
    "                            ]\n",
    "                        }\n",
    "                    ],\n",
    "                    \\\"AWSOwnedKey\\\":true\n",
    "                }\n",
    "                \"\"\",\n",
    "            type='encryption'\n",
    "        )\n",
    "        print('\\nEncryption policy created:')\n",
    "        print(response)\n",
    "    except botocore.exceptions.ClientError as error:\n",
    "        if error.response['Error']['Code'] == 'ConflictException':\n",
    "            print(\n",
    "                '[ConflictException] The policy name or rules conflict with an existing policy.')\n",
    "        else:\n",
    "            raise error\n",
    "\n",
    "\n",
    "def createNetworkPolicy(client):\n",
    "    \"\"\"Creates a network policy that matches all collections beginning with tv-\"\"\"\n",
    "    try:\n",
    "        response = client.create_security_policy(\n",
    "            description='Network policy for TV collections',\n",
    "            name='tv-policy',\n",
    "            policy=\"\"\"\n",
    "                [{\n",
    "                    \\\"Description\\\":\\\"Public access for TV collection\\\",\n",
    "                    \\\"Rules\\\":[\n",
    "                        {\n",
    "                            \\\"ResourceType\\\":\\\"dashboard\\\",\n",
    "                            \\\"Resource\\\":[\\\"collection\\/tv-*\\\"]\n",
    "                        },\n",
    "                        {\n",
    "                            \\\"ResourceType\\\":\\\"collection\\\",\n",
    "                            \\\"Resource\\\":[\\\"collection\\/tv-*\\\"]\n",
    "                        }\n",
    "                    ],\n",
    "                    \\\"AllowFromPublic\\\":true\n",
    "                }]\n",
    "                \"\"\",\n",
    "            type='network'\n",
    "        )\n",
    "        print('\\nNetwork policy created:')\n",
    "        print(response)\n",
    "    except botocore.exceptions.ClientError as error:\n",
    "        if error.response['Error']['Code'] == 'ConflictException':\n",
    "            print(\n",
    "                '[ConflictException] A network policy with this name already exists.')\n",
    "        else:\n",
    "            raise error\n",
    "\n",
    "def createAccessPolicy(client):\n",
    "    \"\"\"Creates a data access policy that matches all collections beginning with tv-\"\"\"\n",
    "    try:\n",
    "        response = client.create_access_policy(\n",
    "            description='Data access policy for TV collections',\n",
    "            name='tv-policy',\n",
    "            policy=\"\"\"\n",
    "                [{\n",
    "                    \\\"Rules\\\":[\n",
    "                        {\n",
    "                            \\\"Resource\\\":[\n",
    "                                \\\"index\\/tv-*\\/*\\\"\n",
    "                            ],\n",
    "                            \\\"Permission\\\":[\n",
    "                                \\\"aoss:CreateIndex\\\",\n",
    "                                \\\"aoss:DeleteIndex\\\",\n",
    "                                \\\"aoss:UpdateIndex\\\",\n",
    "                                \\\"aoss:DescribeIndex\\\",\n",
    "                                \\\"aoss:ReadDocument\\\",\n",
    "                                \\\"aoss:WriteDocument\\\"\n",
    "                            ],\n",
    "                            \\\"ResourceType\\\": \\\"index\\\"\n",
    "                        },\n",
    "                        {\n",
    "                            \\\"Resource\\\":[\n",
    "                                \\\"collection\\/tv-*\\\"\n",
    "                            ],\n",
    "                            \\\"Permission\\\":[\n",
    "                                \\\"aoss:CreateCollectionItems\\\"\n",
    "                            ],\n",
    "                            \\\"ResourceType\\\": \\\"collection\\\"\n",
    "                        }\n",
    "                    ],\n",
    "                    \\\"Principal\\\":[\n",
    "                        \\\"arn:aws:iam::357961106903:role\\/Admin\\\"\n",
    "                    ]\n",
    "                }]\n",
    "                \"\"\",\n",
    "            type='data'\n",
    "        )\n",
    "        print('\\nAccess policy created:')\n",
    "        print(response)\n",
    "    except botocore.exceptions.ClientError as error:\n",
    "        if error.response['Error']['Code'] == 'ConflictException':\n",
    "            print(\n",
    "                '[ConflictException] An access policy with this name already exists.')\n",
    "        else:\n",
    "            raise error"
   ]
  },
  {
   "cell_type": "code",
   "execution_count": 112,
   "id": "1b1b88da-fc61-45af-adf7-4eb494c00808",
   "metadata": {},
   "outputs": [],
   "source": [
    "def createCollection(client):\n",
    "    \"\"\"Creates a collection\"\"\"\n",
    "    try:\n",
    "        response = client.create_collection(\n",
    "            name='tv-sitcoms',\n",
    "            type='SEARCH'\n",
    "        )\n",
    "        return(response)\n",
    "    except botocore.exceptions.ClientError as error:\n",
    "        if error.response['Error']['Code'] == 'ConflictException':\n",
    "            print(\n",
    "                '[ConflictException] A collection with this name already exists. Try another name.')\n",
    "        else:\n",
    "            raise error\n",
    "\n",
    "def waitForCollectionCreation(client):\n",
    "    \"\"\"Waits for the collection to become active\"\"\"\n",
    "    response = client.batch_get_collection(\n",
    "        names=['tv-sitcoms'])\n",
    "    # Periodically check collection status\n",
    "    while (response['collectionDetails'][0]['status']) == 'CREATING':\n",
    "        print('Creating collection...')\n",
    "        time.sleep(30)\n",
    "        response = client.batch_get_collection(\n",
    "            names=['tv-sitcoms'])\n",
    "    print('\\nCollection successfully created:')\n",
    "    print(response[\"collectionDetails\"])\n",
    "    # Extract the collection endpoint from the response\n",
    "    host = (response['collectionDetails'][0]['collectionEndpoint'])\n",
    "    final_host = host.replace(\"https://\", \"\")\n",
    "    return final_host"
   ]
  },
  {
   "cell_type": "code",
   "execution_count": 107,
   "id": "a44e643b-c873-4f57-aa36-d14e8cfeab19",
   "metadata": {},
   "outputs": [
    {
     "name": "stdout",
     "output_type": "stream",
     "text": [
      "[ConflictException] The policy name or rules conflict with an existing policy.\n",
      "[ConflictException] A network policy with this name already exists.\n",
      "[ConflictException] An access policy with this name already exists.\n",
      "[ConflictException] A collection with this name already exists. Try another name.\n"
     ]
    }
   ],
   "source": [
    "createEncryptionPolicy(client)\n",
    "createNetworkPolicy(client)\n",
    "createAccessPolicy(client)\n",
    "createCollection(client)"
   ]
  },
  {
   "cell_type": "code",
   "execution_count": 113,
   "id": "56e9441e-a07c-4a18-ae3f-dd357be194e4",
   "metadata": {},
   "outputs": [
    {
     "name": "stdout",
     "output_type": "stream",
     "text": [
      "\n",
      "Collection successfully created:\n",
      "[{'arn': 'arn:aws:aoss:us-east-1:357961106903:collection/9qjgnx68im5mcri7rtp9', 'collectionEndpoint': 'https://9qjgnx68im5mcri7rtp9.us-east-1.aoss.amazonaws.com', 'createdDate': 1713394114452, 'dashboardEndpoint': 'https://9qjgnx68im5mcri7rtp9.us-east-1.aoss.amazonaws.com/_dashboards', 'id': '9qjgnx68im5mcri7rtp9', 'kmsKeyArn': 'auto', 'lastModifiedDate': 1713394625015, 'name': 'tv-sitcoms', 'standbyReplicas': 'ENABLED', 'status': 'ACTIVE', 'type': 'SEARCH'}]\n"
     ]
    }
   ],
   "source": [
    "final_host = waitForCollectionCreation(client)"
   ]
  },
  {
   "cell_type": "code",
   "execution_count": 114,
   "id": "5cd9c9f7-dd65-44fb-8bfc-e22b3b91007b",
   "metadata": {},
   "outputs": [
    {
     "data": {
      "text/plain": [
       "'9qjgnx68im5mcri7rtp9.us-east-1.aoss.amazonaws.com'"
      ]
     },
     "execution_count": 114,
     "metadata": {},
     "output_type": "execute_result"
    }
   ],
   "source": [
    "final_host"
   ]
  },
  {
   "cell_type": "markdown",
   "id": "5e23be98-1170-4fb3-b08b-6227faaebea1",
   "metadata": {},
   "source": [
    "### Connect to OpenSearch for indexing"
   ]
  },
  {
   "cell_type": "code",
   "execution_count": 96,
   "id": "3e6fe83f-60c3-4192-a658-85d2cbaba67f",
   "metadata": {},
   "outputs": [],
   "source": [
    "final_host = 'i9fsvb9a26e57d7ly111.us-east-2.aoss.amazonaws.com'\n",
    "full_final_host = 'https://i9fsvb9a26e57d7ly111.us-east-2.aoss.amazonaws.com'\n",
    "index_name = 'python-test-index-new'"
   ]
  },
  {
   "cell_type": "code",
   "execution_count": 70,
   "id": "435a576a-f4ba-4938-a24e-59d6ed6f9d8f",
   "metadata": {},
   "outputs": [],
   "source": [
    "from opensearchpy import OpenSearch, AsyncOpenSearch, AsyncHttpConnection, AWSV4SignerAsyncAuth"
   ]
  },
  {
   "cell_type": "code",
   "execution_count": 47,
   "id": "1b312990-2d08-4c52-916f-9448e25e376e",
   "metadata": {},
   "outputs": [],
   "source": [
    "# os_client = OpenSearch(\n",
    "#     hosts=[{'host': final_host, 'port': 443}],\n",
    "#     http_auth=awsauth,\n",
    "#     use_ssl=True,\n",
    "#     verify_certs=True,\n",
    "#     connection_class=RequestsHttpConnection,\n",
    "#     timeout=300\n",
    "# )"
   ]
  },
  {
   "cell_type": "code",
   "execution_count": 51,
   "id": "9ab2bc74-a6d1-4956-8a95-e7ab43f91fa9",
   "metadata": {},
   "outputs": [
    {
     "data": {
      "text/plain": [
       "{'python-test-index': {'aliases': {},\n",
       "  'mappings': {},\n",
       "  'settings': {'index': {'creation_date': '1713395151083',\n",
       "    'number_of_shards': '2',\n",
       "    'number_of_replicas': '0',\n",
       "    'uuid': 'FipP7o4B79BuqcGTMCl1',\n",
       "    'version': {'created': '135217827'},\n",
       "    'provided_name': 'python-test-index'}}}}"
      ]
     },
     "execution_count": 51,
     "metadata": {},
     "output_type": "execute_result"
    }
   ],
   "source": [
    "# os_client.indices.get(index='python-test-index')"
   ]
  },
  {
   "cell_type": "code",
   "execution_count": 71,
   "id": "0f14e331-1d7e-4614-8867-b9b8a8c0a18e",
   "metadata": {},
   "outputs": [],
   "source": [
    "credentials = boto3.Session().get_credentials()\n",
    "auth = AWSV4SignerAsyncAuth(credentials, region, service)"
   ]
  },
  {
   "cell_type": "code",
   "execution_count": 77,
   "id": "be0462a4-db75-4833-a05d-ba61d4bc0f68",
   "metadata": {},
   "outputs": [],
   "source": [
    "# async_os_client = AsyncOpenSearch(\n",
    "#     full_final_host,\n",
    "#     http_auth=auth,\n",
    "#     use_ssl=True,\n",
    "#     verify_certs=True,\n",
    "#     connection_class=AsyncHttpConnection,\n",
    "#     timeout=300\n",
    "# )"
   ]
  },
  {
   "cell_type": "code",
   "execution_count": 78,
   "id": "91c81dc0-b41a-4d53-b9d9-974d8ec35151",
   "metadata": {},
   "outputs": [],
   "source": [
    "from os import getenv\n",
    "from llama_index.core import VectorStoreIndex, StorageContext\n",
    "from llama_index.core import SimpleDirectoryReader"
   ]
  },
  {
   "cell_type": "code",
   "execution_count": 98,
   "id": "0b9e16d8-e042-4370-9b09-b846a07eb5f0",
   "metadata": {},
   "outputs": [],
   "source": [
    "from llama_index.vector_stores.opensearch import (\n",
    "    OpensearchVectorStore,\n",
    "    OpensearchVectorClient,\n",
    ")\n",
    "\n",
    "# OpensearchVectorClient stores text in this field by default\n",
    "text_field = \"content\"\n",
    "# OpensearchVectorClient stores embeddings in this field by default\n",
    "embedding_field = \"embedding\"\n",
    "# OpensearchVectorClient encapsulates logic for a\n",
    "# single opensearch index with vector search enabled\n",
    "client = OpensearchVectorClient(\n",
    "    full_final_host,\n",
    "    index_name, \n",
    "    1536, \n",
    "    embedding_field=embedding_field, \n",
    "    text_field=text_field, \n",
    "    use_ssl=True,\n",
    "    verify_certs=True,\n",
    "    http_auth=auth, \n",
    "    connection_class=AsyncHttpConnection,\n",
    ")"
   ]
  },
  {
   "cell_type": "code",
   "execution_count": 99,
   "id": "ae26011f-13f5-4247-b8ee-15ca9ce7a32c",
   "metadata": {},
   "outputs": [],
   "source": [
    "# initialize vector store\n",
    "vector_store = OpensearchVectorStore(client)\n",
    "index = VectorStoreIndex.from_vector_store(vector_store)"
   ]
  },
  {
   "cell_type": "markdown",
   "id": "f0ea772c-0485-4c1e-ab1a-5d41f4198ad2",
   "metadata": {},
   "source": [
    "### Parsing & Ingestion"
   ]
  },
  {
   "cell_type": "markdown",
   "id": "8267285b-4bfb-45c1-a6c8-b290b75b9d5d",
   "metadata": {},
   "source": [
    "Todo: create OpenSearch cluster, is this the same as the open search serverless?\n",
    "* looks like it's part of the open search service.\n",
    "\n",
    "Todo: use LlamaParse and ingest data into OpenSearch  \n",
    "Todo: figure out how to ingest into OpenSearch"
   ]
  },
  {
   "cell_type": "markdown",
   "id": "a924f69f-fa7f-496e-a009-39519c9baecb",
   "metadata": {},
   "source": [
    "Reference: https://docs.llamaindex.ai/en/stable/examples/vector_stores/OpensearchDemo/?h=opensearch"
   ]
  },
  {
   "cell_type": "code",
   "execution_count": 86,
   "id": "528d340c-5e7b-4041-8066-d0f93edf48bc",
   "metadata": {},
   "outputs": [
    {
     "name": "stdout",
     "output_type": "stream",
     "text": [
      "--2024-04-17 17:30:15--  https://raw.githubusercontent.com/run-llama/llama_index/main/docs/docs/examples/data/paul_graham/paul_graham_essay.txt\n",
      "Resolving raw.githubusercontent.com (raw.githubusercontent.com)... 2606:50c0:8002::154, 2606:50c0:8001::154, 2606:50c0:8000::154, ...\n",
      "Connecting to raw.githubusercontent.com (raw.githubusercontent.com)|2606:50c0:8002::154|:443... connected.\n",
      "HTTP request sent, awaiting response... 200 OK\n",
      "Length: 75042 (73K) [text/plain]\n",
      "Saving to: ‘data/paul_graham/paul_graham_essay.txt’\n",
      "\n",
      "data/paul_graham/pa 100%[===================>]  73.28K  --.-KB/s    in 0.01s   \n",
      "\n",
      "2024-04-17 17:30:15 (6.74 MB/s) - ‘data/paul_graham/paul_graham_essay.txt’ saved [75042/75042]\n",
      "\n"
     ]
    }
   ],
   "source": [
    "!mkdir -p 'data/paul_graham/'\n",
    "!wget 'https://raw.githubusercontent.com/run-llama/llama_index/main/docs/docs/examples/data/paul_graham/paul_graham_essay.txt' -O 'data/paul_graham/paul_graham_essay.txt'"
   ]
  },
  {
   "cell_type": "code",
   "execution_count": 100,
   "id": "1f68e874-ff1f-451d-9f91-c703557232e6",
   "metadata": {},
   "outputs": [],
   "source": [
    "docs = SimpleDirectoryReader(\"./data/paul_graham/\").load_data()"
   ]
  },
  {
   "cell_type": "code",
   "execution_count": 105,
   "id": "d216f517-a855-4401-a984-8f7dc688b0b1",
   "metadata": {},
   "outputs": [],
   "source": [
    "for doc in docs:\n",
    "    index.insert(doc)"
   ]
  },
  {
   "cell_type": "code",
   "execution_count": 104,
   "id": "f00d3971-c6ca-49e2-9720-f14a412c717b",
   "metadata": {
    "scrolled": true
   },
   "outputs": [
    {
     "data": {
      "text/plain": [
       "[NodeWithScore(node=TextNode(id_='c42abc11-91c9-4987-9ae9-a0a5d106a234', embedding=None, metadata={'file_path': '/Users/suo/dev/rag-bedrock/data/paul_graham/paul_graham_essay.txt', 'file_name': 'paul_graham_essay.txt', 'file_type': 'text/plain', 'file_size': 75042, 'creation_date': '2024-04-17', 'last_modified_date': '2024-04-17'}, excluded_embed_metadata_keys=['file_name', 'file_type', 'file_size', 'creation_date', 'last_modified_date', 'last_accessed_date'], excluded_llm_metadata_keys=['file_name', 'file_type', 'file_size', 'creation_date', 'last_modified_date', 'last_accessed_date'], relationships={<NodeRelationship.SOURCE: '1'>: RelatedNodeInfo(node_id='1886bf3f-de3d-46e7-8518-69565ee87ef5', node_type=<ObjectType.DOCUMENT: '4'>, metadata={'file_path': '/Users/suo/dev/rag-bedrock/data/paul_graham/paul_graham_essay.txt', 'file_name': 'paul_graham_essay.txt', 'file_type': 'text/plain', 'file_size': 75042, 'creation_date': '2024-04-17', 'last_modified_date': '2024-04-17'}, hash='c748509de0318656799b4dbd719742df9655c993f94220704157bd7efe10cdd1'), <NodeRelationship.PREVIOUS: '2'>: RelatedNodeInfo(node_id='10161822-bbe6-41fe-97ca-ba9a3969e4a6', node_type=<ObjectType.TEXT: '1'>, metadata={'file_path': '/Users/suo/dev/rag-bedrock/data/paul_graham/paul_graham_essay.txt', 'file_name': 'paul_graham_essay.txt', 'file_type': 'text/plain', 'file_size': 75042, 'creation_date': '2024-04-17', 'last_modified_date': '2024-04-17'}, hash='ea416ddec5bfdd3967cedfaaa638611697944c4f556426f020c7b7f20d74642b'), <NodeRelationship.NEXT: '3'>: RelatedNodeInfo(node_id='ca16b76c-8f27-41e5-b880-a93f10d6dff1', node_type=<ObjectType.TEXT: '1'>, metadata={}, hash='09d34ef1942fcc57152d30520cb092f6569d0117b8e253328d2df3a9bd1882ec')}, text=\"But about halfway through the summer I realized I really didn't want to run a company — especially not a big one, which it was looking like this would have to be. I'd only started Viaweb because I needed the money. Now that I didn't need money anymore, why was I doing this? If this vision had to be realized as a company, then screw the vision. I'd build a subset that could be done as an open source project.\\n\\nMuch to my surprise, the time I spent working on this stuff was not wasted after all. After we started Y Combinator, I would often encounter startups working on parts of this new architecture, and it was very useful to have spent so much time thinking about it and even trying to write some of it.\\n\\nThe subset I would build as an open source project was the new Lisp, whose parentheses I now wouldn't even have to hide. A lot of Lisp hackers dream of building a new Lisp, partly because one of the distinctive features of the language is that it has dialects, and partly, I think, because we have in our minds a Platonic form of Lisp that all existing dialects fall short of. I certainly did. So at the end of the summer Dan and I switched to working on this new dialect of Lisp, which I called Arc, in a house I bought in Cambridge.\\n\\nThe following spring, lightning struck. I was invited to give a talk at a Lisp conference, so I gave one about how we'd used Lisp at Viaweb. Afterward I put a postscript file of this talk online, on paulgraham.com, which I'd created years before using Viaweb but had never used for anything. In one day it got 30,000 page views. What on earth had happened? The referring urls showed that someone had posted it on Slashdot. [10]\\n\\nWow, I thought, there's an audience. If I write something and put it on the web, anyone can read it. That may seem obvious now, but it was surprising then. In the print era there was a narrow channel to readers, guarded by fierce monsters known as editors. The only way to get an audience for anything you wrote was to get it published as a book, or in a newspaper or magazine. Now anyone could publish anything.\\n\\nThis had been possible in principle since 1993, but not many people had realized it yet. I had been intimately involved with building the infrastructure of the web for most of that time, and a writer as well, and it had taken me 8 years to realize it. Even then it took me several years to understand the implications. It meant there would be a whole new generation of essays. [11]\\n\\nIn the print era, the channel for publishing essays had been vanishingly small. Except for a few officially anointed thinkers who went to the right parties in New York, the only people allowed to publish essays were specialists writing about their specialties. There were so many essays that had never been written, because there had been no way to publish them. Now they could be, and I was going to write them. [12]\\n\\nI've worked on several different things, but to the extent there was a turning point where I figured out what to work on, it was when I started publishing essays online. From then on I knew that whatever else I did, I'd always write essays too.\\n\\nI knew that online essays would be a marginal medium at first. Socially they'd seem more like rants posted by nutjobs on their GeoCities sites than the genteel and beautifully typeset compositions published in The New Yorker. But by this point I knew enough to find that encouraging instead of discouraging.\\n\\nOne of the most conspicuous patterns I've noticed in my life is how well it has worked, for me at least, to work on things that weren't prestigious. Still life has always been the least prestigious form of painting. Viaweb and Y Combinator both seemed lame when we started them. I still get the glassy eye from strangers when they ask what I'm writing, and I explain that it's an essay I'm going to publish on my web site. Even Lisp, though prestigious intellectually in something like the way Latin is, also seems about as hip.\\n\\nIt's not that unprestigious types of work are good per se. But when you find yourself drawn to some kind of work despite its current lack of prestige, it's a sign both that there's something real to be discovered there, and that you have the right kind of motives. Impure motives are a big danger for the ambitious.\", start_char_idx=41693, end_char_idx=45985, text_template='{metadata_str}\\n\\n{content}', metadata_template='{key}: {value}', metadata_seperator='\\n'), score=0.6540246),\n",
       " NodeWithScore(node=TextNode(id_='fab35112-cc11-4d91-864f-95f3d1916b7b', embedding=None, metadata={'file_path': '/Users/suo/dev/rag-bedrock/data/paul_graham/paul_graham_essay.txt', 'file_name': 'paul_graham_essay.txt', 'file_type': 'text/plain', 'file_size': 75042, 'creation_date': '2024-04-17', 'last_modified_date': '2024-04-17'}, excluded_embed_metadata_keys=['file_name', 'file_type', 'file_size', 'creation_date', 'last_modified_date', 'last_accessed_date'], excluded_llm_metadata_keys=['file_name', 'file_type', 'file_size', 'creation_date', 'last_modified_date', 'last_accessed_date'], relationships={<NodeRelationship.SOURCE: '1'>: RelatedNodeInfo(node_id='1886bf3f-de3d-46e7-8518-69565ee87ef5', node_type=<ObjectType.DOCUMENT: '4'>, metadata={'file_path': '/Users/suo/dev/rag-bedrock/data/paul_graham/paul_graham_essay.txt', 'file_name': 'paul_graham_essay.txt', 'file_type': 'text/plain', 'file_size': 75042, 'creation_date': '2024-04-17', 'last_modified_date': '2024-04-17'}, hash='c748509de0318656799b4dbd719742df9655c993f94220704157bd7efe10cdd1'), <NodeRelationship.PREVIOUS: '2'>: RelatedNodeInfo(node_id='42e8fdf3-8680-4362-a63c-912544593c63', node_type=<ObjectType.TEXT: '1'>, metadata={'file_path': '/Users/suo/dev/rag-bedrock/data/paul_graham/paul_graham_essay.txt', 'file_name': 'paul_graham_essay.txt', 'file_type': 'text/plain', 'file_size': 75042, 'creation_date': '2024-04-17', 'last_modified_date': '2024-04-17'}, hash='785ee945f85942d63e0d257908bd1c867d6123aa5c4528ef7ef499890988d7a3'), <NodeRelationship.NEXT: '3'>: RelatedNodeInfo(node_id='1fada29f-581a-4960-a487-90328e0d3b73', node_type=<ObjectType.TEXT: '1'>, metadata={}, hash='59f3bfeece03bebef255dfaa3b8a2605a508a94c506392e3df1252b9414a487e')}, text=\"Its brokenness did, as so often happens, generate a lot of opportunities to write papers about various band-aids that could be applied to it, but it was never going to get us Mike.\\n\\nSo I looked around to see what I could salvage from the wreckage of my plans, and there was Lisp. I knew from experience that Lisp was interesting for its own sake and not just for its association with AI, even though that was the main reason people cared about it at the time. So I decided to focus on Lisp. In fact, I decided to write a book about Lisp hacking. It's scary to think how little I knew about Lisp hacking when I started writing that book. But there's nothing like writing a book about something to help you learn it. The book, On Lisp, wasn't published till 1993, but I wrote much of it in grad school.\\n\\nComputer Science is an uneasy alliance between two halves, theory and systems. The theory people prove things, and the systems people build things. I wanted to build things. I had plenty of respect for theory — indeed, a sneaking suspicion that it was the more admirable of the two halves — but building things seemed so much more exciting.\\n\\nThe problem with systems work, though, was that it didn't last. Any program you wrote today, no matter how good, would be obsolete in a couple decades at best. People might mention your software in footnotes, but no one would actually use it. And indeed, it would seem very feeble work. Only people with a sense of the history of the field would even realize that, in its time, it had been good.\\n\\nThere were some surplus Xerox Dandelions floating around the computer lab at one point. Anyone who wanted one to play around with could have one. I was briefly tempted, but they were so slow by present standards; what was the point? No one else wanted one either, so off they went. That was what happened to systems work.\\n\\nI wanted not just to build things, but to build things that would last.\\n\\nIn this dissatisfied state I went in 1988 to visit Rich Draves at CMU, where he was in grad school. One day I went to visit the Carnegie Institute, where I'd spent a lot of time as a kid. While looking at a painting there I realized something that might seem obvious, but was a big surprise to me. There, right on the wall, was something you could make that would last. Paintings didn't become obsolete. Some of the best ones were hundreds of years old.\\n\\nAnd moreover this was something you could make a living doing. Not as easily as you could by writing software, of course, but I thought if you were really industrious and lived really cheaply, it had to be possible to make enough to survive. And as an artist you could be truly independent. You wouldn't have a boss, or even need to get research funding.\\n\\nI had always liked looking at paintings. Could I make them? I had no idea. I'd never imagined it was even possible. I knew intellectually that people made art — that it didn't just appear spontaneously — but it was as if the people who made it were a different species. They either lived long ago or were mysterious geniuses doing strange things in profiles in Life magazine. The idea of actually being able to make art, to put that verb before that noun, seemed almost miraculous.\\n\\nThat fall I started taking art classes at Harvard. Grad students could take classes in any department, and my advisor, Tom Cheatham, was very easy going. If he even knew about the strange classes I was taking, he never said anything.\\n\\nSo now I was in a PhD program in computer science, yet planning to be an artist, yet also genuinely in love with Lisp hacking and working away at On Lisp. In other words, like many a grad student, I was working energetically on multiple projects that were not my thesis.\\n\\nI didn't see a way out of this situation. I didn't want to drop out of grad school, but how else was I going to get out? I remember when my friend Robert Morris got kicked out of Cornell for writing the internet worm of 1988, I was envious that he'd found such a spectacular way to get out of grad school.\\n\\nThen one day in April 1990 a crack appeared in the wall. I ran into professor Cheatham and he asked if I was far enough along to graduate that June.\", start_char_idx=6984, end_char_idx=11177, text_template='{metadata_str}\\n\\n{content}', metadata_template='{key}: {value}', metadata_seperator='\\n'), score=0.6536281)]"
      ]
     },
     "execution_count": 104,
     "metadata": {},
     "output_type": "execute_result"
    }
   ],
   "source": [
    "index.as_retriever().retrieve('who is paul graham')"
   ]
  },
  {
   "cell_type": "markdown",
   "id": "b6f320af-87f6-4d2c-ba50-c0aa3171b596",
   "metadata": {},
   "source": [
    "### Retrieval"
   ]
  },
  {
   "cell_type": "markdown",
   "id": "66a68c70-8ad3-40b8-b3d8-0d202469574d",
   "metadata": {},
   "source": [
    "Reference: https://github.com/run-llama/llama_index/blob/main/docs/docs/examples/retrievers/bedrock_retriever.ipynb"
   ]
  },
  {
   "cell_type": "code",
   "execution_count": 2,
   "id": "af0f93c3-77bc-4d21-a432-4515504254ca",
   "metadata": {},
   "outputs": [],
   "source": [
    "from llama_index.retrievers.bedrock import AmazonKnowledgeBasesRetriever"
   ]
  },
  {
   "cell_type": "code",
   "execution_count": 3,
   "id": "593aff64-0d7f-49d6-bf2b-0fab3e5c0c1c",
   "metadata": {},
   "outputs": [
    {
     "ename": "NameError",
     "evalue": "name 'AmazonKnowledgeBasesRetriever' is not defined",
     "output_type": "error",
     "traceback": [
      "\u001b[0;31m---------------------------------------------------------------------------\u001b[0m",
      "\u001b[0;31mNameError\u001b[0m                                 Traceback (most recent call last)",
      "Cell \u001b[0;32mIn[3], line 1\u001b[0m\n\u001b[0;32m----> 1\u001b[0m retriever \u001b[38;5;241m=\u001b[39m \u001b[43mAmazonKnowledgeBasesRetriever\u001b[49m(\n\u001b[1;32m      2\u001b[0m     knowledge_base_id\u001b[38;5;241m=\u001b[39m\u001b[38;5;124m\"\u001b[39m\u001b[38;5;124m<knowledge-base-id>\u001b[39m\u001b[38;5;124m\"\u001b[39m,\n\u001b[1;32m      3\u001b[0m     retrieval_config\u001b[38;5;241m=\u001b[39m{\n\u001b[1;32m      4\u001b[0m         \u001b[38;5;124m\"\u001b[39m\u001b[38;5;124mvectorSearchConfiguration\u001b[39m\u001b[38;5;124m\"\u001b[39m: {\n\u001b[1;32m      5\u001b[0m             \u001b[38;5;124m\"\u001b[39m\u001b[38;5;124mnumberOfResults\u001b[39m\u001b[38;5;124m\"\u001b[39m: \u001b[38;5;241m4\u001b[39m,\n\u001b[1;32m      6\u001b[0m             \u001b[38;5;124m\"\u001b[39m\u001b[38;5;124moverrideSearchType\u001b[39m\u001b[38;5;124m\"\u001b[39m: \u001b[38;5;124m\"\u001b[39m\u001b[38;5;124mHYBRID\u001b[39m\u001b[38;5;124m\"\u001b[39m,\n\u001b[1;32m      7\u001b[0m             \u001b[38;5;124m\"\u001b[39m\u001b[38;5;124mfilter\u001b[39m\u001b[38;5;124m\"\u001b[39m: {\u001b[38;5;124m\"\u001b[39m\u001b[38;5;124mequals\u001b[39m\u001b[38;5;124m\"\u001b[39m: {\u001b[38;5;124m\"\u001b[39m\u001b[38;5;124mkey\u001b[39m\u001b[38;5;124m\"\u001b[39m: \u001b[38;5;124m\"\u001b[39m\u001b[38;5;124mtag\u001b[39m\u001b[38;5;124m\"\u001b[39m, \u001b[38;5;124m\"\u001b[39m\u001b[38;5;124mvalue\u001b[39m\u001b[38;5;124m\"\u001b[39m: \u001b[38;5;124m\"\u001b[39m\u001b[38;5;124mspace\u001b[39m\u001b[38;5;124m\"\u001b[39m}},\n\u001b[1;32m      8\u001b[0m         }\n\u001b[1;32m      9\u001b[0m     },\n\u001b[1;32m     10\u001b[0m )\n",
      "\u001b[0;31mNameError\u001b[0m: name 'AmazonKnowledgeBasesRetriever' is not defined"
     ]
    }
   ],
   "source": [
    "retriever = AmazonKnowledgeBasesRetriever(\n",
    "    knowledge_base_id=\"<knowledge-base-id>\",\n",
    "    retrieval_config={\n",
    "        \"vectorSearchConfiguration\": {\n",
    "            \"numberOfResults\": 4,\n",
    "            \"overrideSearchType\": \"HYBRID\",\n",
    "            \"filter\": {\"equals\": {\"key\": \"tag\", \"value\": \"space\"}},\n",
    "        }\n",
    "    },\n",
    ")"
   ]
  },
  {
   "cell_type": "code",
   "execution_count": null,
   "id": "75afcc66-c59e-44b7-94cc-3260f1e294c2",
   "metadata": {},
   "outputs": [],
   "source": []
  }
 ],
 "metadata": {
  "kernelspec": {
   "display_name": "Python 3 (ipykernel)",
   "language": "python",
   "name": "python3"
  },
  "language_info": {
   "codemirror_mode": {
    "name": "ipython",
    "version": 3
   },
   "file_extension": ".py",
   "mimetype": "text/x-python",
   "name": "python",
   "nbconvert_exporter": "python",
   "pygments_lexer": "ipython3",
   "version": "3.11.3"
  }
 },
 "nbformat": 4,
 "nbformat_minor": 5
}
