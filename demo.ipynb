{
 "cells": [
  {
   "cell_type": "markdown",
   "id": "b8ab5729-357b-4190-b9a7-c0548a964f0c",
   "metadata": {},
   "source": [
    "# LlamaIndex <> Bedrock"
   ]
  },
  {
   "cell_type": "markdown",
   "id": "e3fb0876-59f2-4cbc-a0d3-e3ffe35ec1bb",
   "metadata": {},
   "source": [
    "### Setup environment"
   ]
  },
  {
   "cell_type": "code",
   "execution_count": 1,
   "id": "50d9c7d7-d457-4020-9a7d-e2ec3b3e18f0",
   "metadata": {
    "scrolled": true
   },
   "outputs": [
    {
     "name": "stdout",
     "output_type": "stream",
     "text": [
      "Collecting llama-index-llms-bedrock\n",
      "  Downloading llama_index_llms_bedrock-0.1.6-py3-none-any.whl (8.2 kB)\n",
      "Collecting boto3<2.0.0,>=1.34.26\n",
      "  Downloading boto3-1.34.85-py3-none-any.whl (139 kB)\n",
      "\u001b[2K     \u001b[38;2;114;156;31m━━━━━━━━━━━━━━━━━━━━━━━━━━━━━━━━━━━━━\u001b[0m \u001b[32m139.3/139.3 kB\u001b[0m \u001b[31m945.2 kB/s\u001b[0m eta \u001b[36m0:00:00\u001b[0m[31m1.1 MB/s\u001b[0m eta \u001b[36m0:00:01\u001b[0m\n",
      "\u001b[?25hRequirement already satisfied: llama-index-core<0.11.0,>=0.10.1 in /Users/suo/dev/odr-poc/.env/lib/python3.11/site-packages (from llama-index-llms-bedrock) (0.10.28)\n",
      "Collecting llama-index-llms-anthropic<0.2.0,>=0.1.7\n",
      "  Downloading llama_index_llms_anthropic-0.1.10-py3-none-any.whl (6.1 kB)\n",
      "Collecting botocore<1.35.0,>=1.34.85\n",
      "  Downloading botocore-1.34.85-py3-none-any.whl (12.1 MB)\n",
      "\u001b[2K     \u001b[38;2;114;156;31m━━━━━━━━━━━━━━━━━━━━━━━━━━━━━━━━━━━━━━━\u001b[0m \u001b[32m12.1/12.1 MB\u001b[0m \u001b[31m882.0 kB/s\u001b[0m eta \u001b[36m0:00:00\u001b[0mm eta \u001b[36m0:00:01\u001b[0m[36m0:00:01\u001b[0m\n",
      "\u001b[?25hCollecting jmespath<2.0.0,>=0.7.1\n",
      "  Using cached jmespath-1.0.1-py3-none-any.whl (20 kB)\n",
      "Collecting s3transfer<0.11.0,>=0.10.0\n",
      "  Downloading s3transfer-0.10.1-py3-none-any.whl (82 kB)\n",
      "\u001b[2K     \u001b[38;2;114;156;31m━━━━━━━━━━━━━━━━━━━━━━━━━━━━━━━━━━━━━━━━\u001b[0m \u001b[32m82.2/82.2 kB\u001b[0m \u001b[31m1.2 MB/s\u001b[0m eta \u001b[36m0:00:00\u001b[0m[31m2.4 MB/s\u001b[0m eta \u001b[36m0:00:01\u001b[0m\n",
      "\u001b[?25hRequirement already satisfied: PyYAML>=6.0.1 in /Users/suo/dev/odr-poc/.env/lib/python3.11/site-packages (from llama-index-core<0.11.0,>=0.10.1->llama-index-llms-bedrock) (6.0.1)\n",
      "Requirement already satisfied: SQLAlchemy[asyncio]>=1.4.49 in /Users/suo/dev/odr-poc/.env/lib/python3.11/site-packages (from llama-index-core<0.11.0,>=0.10.1->llama-index-llms-bedrock) (2.0.29)\n",
      "Requirement already satisfied: aiohttp<4.0.0,>=3.8.6 in /Users/suo/dev/odr-poc/.env/lib/python3.11/site-packages (from llama-index-core<0.11.0,>=0.10.1->llama-index-llms-bedrock) (3.9.4)\n",
      "Requirement already satisfied: dataclasses-json in /Users/suo/dev/odr-poc/.env/lib/python3.11/site-packages (from llama-index-core<0.11.0,>=0.10.1->llama-index-llms-bedrock) (0.6.4)\n",
      "Requirement already satisfied: deprecated>=1.2.9.3 in /Users/suo/dev/odr-poc/.env/lib/python3.11/site-packages (from llama-index-core<0.11.0,>=0.10.1->llama-index-llms-bedrock) (1.2.14)\n",
      "Requirement already satisfied: dirtyjson<2.0.0,>=1.0.8 in /Users/suo/dev/odr-poc/.env/lib/python3.11/site-packages (from llama-index-core<0.11.0,>=0.10.1->llama-index-llms-bedrock) (1.0.8)\n",
      "Requirement already satisfied: fsspec>=2023.5.0 in /Users/suo/dev/odr-poc/.env/lib/python3.11/site-packages (from llama-index-core<0.11.0,>=0.10.1->llama-index-llms-bedrock) (2024.3.1)\n",
      "Requirement already satisfied: httpx in /Users/suo/dev/odr-poc/.env/lib/python3.11/site-packages (from llama-index-core<0.11.0,>=0.10.1->llama-index-llms-bedrock) (0.27.0)\n",
      "Requirement already satisfied: llamaindex-py-client<0.2.0,>=0.1.16 in /Users/suo/dev/odr-poc/.env/lib/python3.11/site-packages (from llama-index-core<0.11.0,>=0.10.1->llama-index-llms-bedrock) (0.1.17)\n",
      "Requirement already satisfied: nest-asyncio<2.0.0,>=1.5.8 in /Users/suo/dev/odr-poc/.env/lib/python3.11/site-packages (from llama-index-core<0.11.0,>=0.10.1->llama-index-llms-bedrock) (1.6.0)\n",
      "Requirement already satisfied: networkx>=3.0 in /Users/suo/dev/odr-poc/.env/lib/python3.11/site-packages (from llama-index-core<0.11.0,>=0.10.1->llama-index-llms-bedrock) (3.3)\n",
      "Requirement already satisfied: nltk<4.0.0,>=3.8.1 in /Users/suo/dev/odr-poc/.env/lib/python3.11/site-packages (from llama-index-core<0.11.0,>=0.10.1->llama-index-llms-bedrock) (3.8.1)\n",
      "Requirement already satisfied: numpy in /Users/suo/dev/odr-poc/.env/lib/python3.11/site-packages (from llama-index-core<0.11.0,>=0.10.1->llama-index-llms-bedrock) (1.26.4)\n",
      "Requirement already satisfied: openai>=1.1.0 in /Users/suo/dev/odr-poc/.env/lib/python3.11/site-packages (from llama-index-core<0.11.0,>=0.10.1->llama-index-llms-bedrock) (1.17.0)\n",
      "Requirement already satisfied: pandas in /Users/suo/dev/odr-poc/.env/lib/python3.11/site-packages (from llama-index-core<0.11.0,>=0.10.1->llama-index-llms-bedrock) (2.2.2)\n",
      "Requirement already satisfied: pillow>=9.0.0 in /Users/suo/dev/odr-poc/.env/lib/python3.11/site-packages (from llama-index-core<0.11.0,>=0.10.1->llama-index-llms-bedrock) (10.3.0)\n",
      "Requirement already satisfied: requests>=2.31.0 in /Users/suo/dev/odr-poc/.env/lib/python3.11/site-packages (from llama-index-core<0.11.0,>=0.10.1->llama-index-llms-bedrock) (2.31.0)\n",
      "Requirement already satisfied: tenacity<9.0.0,>=8.2.0 in /Users/suo/dev/odr-poc/.env/lib/python3.11/site-packages (from llama-index-core<0.11.0,>=0.10.1->llama-index-llms-bedrock) (8.2.3)\n",
      "Requirement already satisfied: tiktoken>=0.3.3 in /Users/suo/dev/odr-poc/.env/lib/python3.11/site-packages (from llama-index-core<0.11.0,>=0.10.1->llama-index-llms-bedrock) (0.6.0)\n",
      "Requirement already satisfied: tqdm<5.0.0,>=4.66.1 in /Users/suo/dev/odr-poc/.env/lib/python3.11/site-packages (from llama-index-core<0.11.0,>=0.10.1->llama-index-llms-bedrock) (4.66.2)\n",
      "Requirement already satisfied: typing-extensions>=4.5.0 in /Users/suo/dev/odr-poc/.env/lib/python3.11/site-packages (from llama-index-core<0.11.0,>=0.10.1->llama-index-llms-bedrock) (4.11.0)\n",
      "Requirement already satisfied: typing-inspect>=0.8.0 in /Users/suo/dev/odr-poc/.env/lib/python3.11/site-packages (from llama-index-core<0.11.0,>=0.10.1->llama-index-llms-bedrock) (0.9.0)\n",
      "Requirement already satisfied: wrapt in /Users/suo/dev/odr-poc/.env/lib/python3.11/site-packages (from llama-index-core<0.11.0,>=0.10.1->llama-index-llms-bedrock) (1.16.0)\n",
      "Collecting anthropic<0.24.0,>=0.23.1\n",
      "  Downloading anthropic-0.23.1-py3-none-any.whl (869 kB)\n",
      "\u001b[2K     \u001b[38;2;114;156;31m━━━━━━━━━━━━━━━━━━━━━━━━━━━━━━━━━━━━━━━\u001b[0m \u001b[32m869.1/869.1 kB\u001b[0m \u001b[31m1.1 MB/s\u001b[0m eta \u001b[36m0:00:00\u001b[0mm eta \u001b[36m0:00:01\u001b[0m[36m0:00:01\u001b[0m\n",
      "\u001b[?25hRequirement already satisfied: aiosignal>=1.1.2 in /Users/suo/dev/odr-poc/.env/lib/python3.11/site-packages (from aiohttp<4.0.0,>=3.8.6->llama-index-core<0.11.0,>=0.10.1->llama-index-llms-bedrock) (1.3.1)\n",
      "Requirement already satisfied: attrs>=17.3.0 in /Users/suo/dev/odr-poc/.env/lib/python3.11/site-packages (from aiohttp<4.0.0,>=3.8.6->llama-index-core<0.11.0,>=0.10.1->llama-index-llms-bedrock) (23.2.0)\n",
      "Requirement already satisfied: frozenlist>=1.1.1 in /Users/suo/dev/odr-poc/.env/lib/python3.11/site-packages (from aiohttp<4.0.0,>=3.8.6->llama-index-core<0.11.0,>=0.10.1->llama-index-llms-bedrock) (1.4.1)\n",
      "Requirement already satisfied: multidict<7.0,>=4.5 in /Users/suo/dev/odr-poc/.env/lib/python3.11/site-packages (from aiohttp<4.0.0,>=3.8.6->llama-index-core<0.11.0,>=0.10.1->llama-index-llms-bedrock) (6.0.5)\n",
      "Requirement already satisfied: yarl<2.0,>=1.0 in /Users/suo/dev/odr-poc/.env/lib/python3.11/site-packages (from aiohttp<4.0.0,>=3.8.6->llama-index-core<0.11.0,>=0.10.1->llama-index-llms-bedrock) (1.9.4)\n",
      "Requirement already satisfied: anyio<5,>=3.5.0 in /Users/suo/dev/odr-poc/.env/lib/python3.11/site-packages (from anthropic<0.24.0,>=0.23.1->llama-index-llms-anthropic<0.2.0,>=0.1.7->llama-index-llms-bedrock) (4.3.0)\n",
      "Requirement already satisfied: distro<2,>=1.7.0 in /Users/suo/dev/odr-poc/.env/lib/python3.11/site-packages (from anthropic<0.24.0,>=0.23.1->llama-index-llms-anthropic<0.2.0,>=0.1.7->llama-index-llms-bedrock) (1.9.0)\n",
      "Requirement already satisfied: pydantic<3,>=1.9.0 in /Users/suo/dev/odr-poc/.env/lib/python3.11/site-packages (from anthropic<0.24.0,>=0.23.1->llama-index-llms-anthropic<0.2.0,>=0.1.7->llama-index-llms-bedrock) (2.7.0)\n",
      "Requirement already satisfied: sniffio in /Users/suo/dev/odr-poc/.env/lib/python3.11/site-packages (from anthropic<0.24.0,>=0.23.1->llama-index-llms-anthropic<0.2.0,>=0.1.7->llama-index-llms-bedrock) (1.3.1)\n",
      "Collecting tokenizers>=0.13.0\n",
      "  Downloading tokenizers-0.19.0-cp311-cp311-macosx_10_12_x86_64.whl (2.5 MB)\n",
      "\u001b[2K     \u001b[38;2;114;156;31m━━━━━━━━━━━━━━━━━━━━━━━━━━━━━━━━━━━━━━━━\u001b[0m \u001b[32m2.5/2.5 MB\u001b[0m \u001b[31m974.2 kB/s\u001b[0m eta \u001b[36m0:00:00\u001b[0m[36m0:00:01\u001b[0mm eta \u001b[36m0:00:01\u001b[0m\n",
      "\u001b[?25hRequirement already satisfied: python-dateutil<3.0.0,>=2.1 in /Users/suo/dev/odr-poc/.env/lib/python3.11/site-packages (from botocore<1.35.0,>=1.34.85->boto3<2.0.0,>=1.34.26->llama-index-llms-bedrock) (2.9.0.post0)\n",
      "Requirement already satisfied: urllib3!=2.2.0,<3,>=1.25.4 in /Users/suo/dev/odr-poc/.env/lib/python3.11/site-packages (from botocore<1.35.0,>=1.34.85->boto3<2.0.0,>=1.34.26->llama-index-llms-bedrock) (2.2.1)\n",
      "Requirement already satisfied: certifi in /Users/suo/dev/odr-poc/.env/lib/python3.11/site-packages (from httpx->llama-index-core<0.11.0,>=0.10.1->llama-index-llms-bedrock) (2024.2.2)\n",
      "Requirement already satisfied: httpcore==1.* in /Users/suo/dev/odr-poc/.env/lib/python3.11/site-packages (from httpx->llama-index-core<0.11.0,>=0.10.1->llama-index-llms-bedrock) (1.0.5)\n",
      "Requirement already satisfied: idna in /Users/suo/dev/odr-poc/.env/lib/python3.11/site-packages (from httpx->llama-index-core<0.11.0,>=0.10.1->llama-index-llms-bedrock) (3.7)\n",
      "Requirement already satisfied: h11<0.15,>=0.13 in /Users/suo/dev/odr-poc/.env/lib/python3.11/site-packages (from httpcore==1.*->httpx->llama-index-core<0.11.0,>=0.10.1->llama-index-llms-bedrock) (0.14.0)\n",
      "Requirement already satisfied: click in /Users/suo/dev/odr-poc/.env/lib/python3.11/site-packages (from nltk<4.0.0,>=3.8.1->llama-index-core<0.11.0,>=0.10.1->llama-index-llms-bedrock) (8.1.7)\n",
      "Requirement already satisfied: joblib in /Users/suo/dev/odr-poc/.env/lib/python3.11/site-packages (from nltk<4.0.0,>=3.8.1->llama-index-core<0.11.0,>=0.10.1->llama-index-llms-bedrock) (1.4.0)\n",
      "Requirement already satisfied: regex>=2021.8.3 in /Users/suo/dev/odr-poc/.env/lib/python3.11/site-packages (from nltk<4.0.0,>=3.8.1->llama-index-core<0.11.0,>=0.10.1->llama-index-llms-bedrock) (2023.12.25)\n",
      "Requirement already satisfied: charset-normalizer<4,>=2 in /Users/suo/dev/odr-poc/.env/lib/python3.11/site-packages (from requests>=2.31.0->llama-index-core<0.11.0,>=0.10.1->llama-index-llms-bedrock) (3.3.2)\n",
      "Requirement already satisfied: greenlet!=0.4.17 in /Users/suo/dev/odr-poc/.env/lib/python3.11/site-packages (from SQLAlchemy[asyncio]>=1.4.49->llama-index-core<0.11.0,>=0.10.1->llama-index-llms-bedrock) (3.0.3)\n",
      "Requirement already satisfied: mypy-extensions>=0.3.0 in /Users/suo/dev/odr-poc/.env/lib/python3.11/site-packages (from typing-inspect>=0.8.0->llama-index-core<0.11.0,>=0.10.1->llama-index-llms-bedrock) (1.0.0)\n",
      "Requirement already satisfied: marshmallow<4.0.0,>=3.18.0 in /Users/suo/dev/odr-poc/.env/lib/python3.11/site-packages (from dataclasses-json->llama-index-core<0.11.0,>=0.10.1->llama-index-llms-bedrock) (3.21.1)\n",
      "Requirement already satisfied: pytz>=2020.1 in /Users/suo/dev/odr-poc/.env/lib/python3.11/site-packages (from pandas->llama-index-core<0.11.0,>=0.10.1->llama-index-llms-bedrock) (2024.1)\n",
      "Requirement already satisfied: tzdata>=2022.7 in /Users/suo/dev/odr-poc/.env/lib/python3.11/site-packages (from pandas->llama-index-core<0.11.0,>=0.10.1->llama-index-llms-bedrock) (2024.1)\n",
      "Requirement already satisfied: packaging>=17.0 in /Users/suo/dev/odr-poc/.env/lib/python3.11/site-packages (from marshmallow<4.0.0,>=3.18.0->dataclasses-json->llama-index-core<0.11.0,>=0.10.1->llama-index-llms-bedrock) (24.0)\n",
      "Requirement already satisfied: annotated-types>=0.4.0 in /Users/suo/dev/odr-poc/.env/lib/python3.11/site-packages (from pydantic<3,>=1.9.0->anthropic<0.24.0,>=0.23.1->llama-index-llms-anthropic<0.2.0,>=0.1.7->llama-index-llms-bedrock) (0.6.0)\n",
      "Requirement already satisfied: pydantic-core==2.18.1 in /Users/suo/dev/odr-poc/.env/lib/python3.11/site-packages (from pydantic<3,>=1.9.0->anthropic<0.24.0,>=0.23.1->llama-index-llms-anthropic<0.2.0,>=0.1.7->llama-index-llms-bedrock) (2.18.1)\n",
      "Requirement already satisfied: six>=1.5 in /Users/suo/dev/odr-poc/.env/lib/python3.11/site-packages (from python-dateutil<3.0.0,>=2.1->botocore<1.35.0,>=1.34.85->boto3<2.0.0,>=1.34.26->llama-index-llms-bedrock) (1.16.0)\n",
      "Collecting huggingface-hub<1.0,>=0.16.4\n",
      "  Downloading huggingface_hub-0.22.2-py3-none-any.whl (388 kB)\n",
      "\u001b[2K     \u001b[38;2;114;156;31m━━━━━━━━━━━━━━━━━━━━━━━━━━━━━━━━━━━━━━━\u001b[0m \u001b[32m388.9/388.9 kB\u001b[0m \u001b[31m1.1 MB/s\u001b[0m eta \u001b[36m0:00:00\u001b[0m[31m1.1 MB/s\u001b[0m eta \u001b[36m0:00:01\u001b[0m\n",
      "\u001b[?25hCollecting filelock\n",
      "  Downloading filelock-3.13.4-py3-none-any.whl (11 kB)\n",
      "Installing collected packages: jmespath, filelock, huggingface-hub, botocore, tokenizers, s3transfer, boto3, anthropic, llama-index-llms-anthropic, llama-index-llms-bedrock\n",
      "Successfully installed anthropic-0.23.1 boto3-1.34.85 botocore-1.34.85 filelock-3.13.4 huggingface-hub-0.22.2 jmespath-1.0.1 llama-index-llms-anthropic-0.1.10 llama-index-llms-bedrock-0.1.6 s3transfer-0.10.1 tokenizers-0.19.0\n",
      "\n",
      "\u001b[1m[\u001b[0m\u001b[34;49mnotice\u001b[0m\u001b[1;39;49m]\u001b[0m\u001b[39;49m A new release of pip available: \u001b[0m\u001b[31;49m22.3.1\u001b[0m\u001b[39;49m -> \u001b[0m\u001b[32;49m24.0\u001b[0m\n",
      "\u001b[1m[\u001b[0m\u001b[34;49mnotice\u001b[0m\u001b[1;39;49m]\u001b[0m\u001b[39;49m To update, run: \u001b[0m\u001b[32;49mpip install --upgrade pip\u001b[0m\n",
      "Note: you may need to restart the kernel to use updated packages.\n",
      "Requirement already satisfied: llama-index-retrievers-bedrock in /Users/suo/dev/odr-poc/.env/lib/python3.11/site-packages (0.1.0)\n",
      "Requirement already satisfied: llama-index-core<0.11.0,>=0.10.0 in /Users/suo/dev/odr-poc/.env/lib/python3.11/site-packages (from llama-index-retrievers-bedrock) (0.10.28)\n",
      "Requirement already satisfied: PyYAML>=6.0.1 in /Users/suo/dev/odr-poc/.env/lib/python3.11/site-packages (from llama-index-core<0.11.0,>=0.10.0->llama-index-retrievers-bedrock) (6.0.1)\n",
      "Requirement already satisfied: SQLAlchemy[asyncio]>=1.4.49 in /Users/suo/dev/odr-poc/.env/lib/python3.11/site-packages (from llama-index-core<0.11.0,>=0.10.0->llama-index-retrievers-bedrock) (2.0.29)\n",
      "Requirement already satisfied: aiohttp<4.0.0,>=3.8.6 in /Users/suo/dev/odr-poc/.env/lib/python3.11/site-packages (from llama-index-core<0.11.0,>=0.10.0->llama-index-retrievers-bedrock) (3.9.4)\n",
      "Requirement already satisfied: dataclasses-json in /Users/suo/dev/odr-poc/.env/lib/python3.11/site-packages (from llama-index-core<0.11.0,>=0.10.0->llama-index-retrievers-bedrock) (0.6.4)\n",
      "Requirement already satisfied: deprecated>=1.2.9.3 in /Users/suo/dev/odr-poc/.env/lib/python3.11/site-packages (from llama-index-core<0.11.0,>=0.10.0->llama-index-retrievers-bedrock) (1.2.14)\n",
      "Requirement already satisfied: dirtyjson<2.0.0,>=1.0.8 in /Users/suo/dev/odr-poc/.env/lib/python3.11/site-packages (from llama-index-core<0.11.0,>=0.10.0->llama-index-retrievers-bedrock) (1.0.8)\n",
      "Requirement already satisfied: fsspec>=2023.5.0 in /Users/suo/dev/odr-poc/.env/lib/python3.11/site-packages (from llama-index-core<0.11.0,>=0.10.0->llama-index-retrievers-bedrock) (2024.3.1)\n",
      "Requirement already satisfied: httpx in /Users/suo/dev/odr-poc/.env/lib/python3.11/site-packages (from llama-index-core<0.11.0,>=0.10.0->llama-index-retrievers-bedrock) (0.27.0)\n",
      "Requirement already satisfied: llamaindex-py-client<0.2.0,>=0.1.16 in /Users/suo/dev/odr-poc/.env/lib/python3.11/site-packages (from llama-index-core<0.11.0,>=0.10.0->llama-index-retrievers-bedrock) (0.1.17)\n",
      "Requirement already satisfied: nest-asyncio<2.0.0,>=1.5.8 in /Users/suo/dev/odr-poc/.env/lib/python3.11/site-packages (from llama-index-core<0.11.0,>=0.10.0->llama-index-retrievers-bedrock) (1.6.0)\n",
      "Requirement already satisfied: networkx>=3.0 in /Users/suo/dev/odr-poc/.env/lib/python3.11/site-packages (from llama-index-core<0.11.0,>=0.10.0->llama-index-retrievers-bedrock) (3.3)\n",
      "Requirement already satisfied: nltk<4.0.0,>=3.8.1 in /Users/suo/dev/odr-poc/.env/lib/python3.11/site-packages (from llama-index-core<0.11.0,>=0.10.0->llama-index-retrievers-bedrock) (3.8.1)\n",
      "Requirement already satisfied: numpy in /Users/suo/dev/odr-poc/.env/lib/python3.11/site-packages (from llama-index-core<0.11.0,>=0.10.0->llama-index-retrievers-bedrock) (1.26.4)\n",
      "Requirement already satisfied: openai>=1.1.0 in /Users/suo/dev/odr-poc/.env/lib/python3.11/site-packages (from llama-index-core<0.11.0,>=0.10.0->llama-index-retrievers-bedrock) (1.17.0)\n",
      "Requirement already satisfied: pandas in /Users/suo/dev/odr-poc/.env/lib/python3.11/site-packages (from llama-index-core<0.11.0,>=0.10.0->llama-index-retrievers-bedrock) (2.2.2)\n",
      "Requirement already satisfied: pillow>=9.0.0 in /Users/suo/dev/odr-poc/.env/lib/python3.11/site-packages (from llama-index-core<0.11.0,>=0.10.0->llama-index-retrievers-bedrock) (10.3.0)\n",
      "Requirement already satisfied: requests>=2.31.0 in /Users/suo/dev/odr-poc/.env/lib/python3.11/site-packages (from llama-index-core<0.11.0,>=0.10.0->llama-index-retrievers-bedrock) (2.31.0)\n",
      "Requirement already satisfied: tenacity<9.0.0,>=8.2.0 in /Users/suo/dev/odr-poc/.env/lib/python3.11/site-packages (from llama-index-core<0.11.0,>=0.10.0->llama-index-retrievers-bedrock) (8.2.3)\n",
      "Requirement already satisfied: tiktoken>=0.3.3 in /Users/suo/dev/odr-poc/.env/lib/python3.11/site-packages (from llama-index-core<0.11.0,>=0.10.0->llama-index-retrievers-bedrock) (0.6.0)\n",
      "Requirement already satisfied: tqdm<5.0.0,>=4.66.1 in /Users/suo/dev/odr-poc/.env/lib/python3.11/site-packages (from llama-index-core<0.11.0,>=0.10.0->llama-index-retrievers-bedrock) (4.66.2)\n",
      "Requirement already satisfied: typing-extensions>=4.5.0 in /Users/suo/dev/odr-poc/.env/lib/python3.11/site-packages (from llama-index-core<0.11.0,>=0.10.0->llama-index-retrievers-bedrock) (4.11.0)\n",
      "Requirement already satisfied: typing-inspect>=0.8.0 in /Users/suo/dev/odr-poc/.env/lib/python3.11/site-packages (from llama-index-core<0.11.0,>=0.10.0->llama-index-retrievers-bedrock) (0.9.0)\n",
      "Requirement already satisfied: wrapt in /Users/suo/dev/odr-poc/.env/lib/python3.11/site-packages (from llama-index-core<0.11.0,>=0.10.0->llama-index-retrievers-bedrock) (1.16.0)\n",
      "Requirement already satisfied: aiosignal>=1.1.2 in /Users/suo/dev/odr-poc/.env/lib/python3.11/site-packages (from aiohttp<4.0.0,>=3.8.6->llama-index-core<0.11.0,>=0.10.0->llama-index-retrievers-bedrock) (1.3.1)\n",
      "Requirement already satisfied: attrs>=17.3.0 in /Users/suo/dev/odr-poc/.env/lib/python3.11/site-packages (from aiohttp<4.0.0,>=3.8.6->llama-index-core<0.11.0,>=0.10.0->llama-index-retrievers-bedrock) (23.2.0)\n",
      "Requirement already satisfied: frozenlist>=1.1.1 in /Users/suo/dev/odr-poc/.env/lib/python3.11/site-packages (from aiohttp<4.0.0,>=3.8.6->llama-index-core<0.11.0,>=0.10.0->llama-index-retrievers-bedrock) (1.4.1)\n",
      "Requirement already satisfied: multidict<7.0,>=4.5 in /Users/suo/dev/odr-poc/.env/lib/python3.11/site-packages (from aiohttp<4.0.0,>=3.8.6->llama-index-core<0.11.0,>=0.10.0->llama-index-retrievers-bedrock) (6.0.5)\n",
      "Requirement already satisfied: yarl<2.0,>=1.0 in /Users/suo/dev/odr-poc/.env/lib/python3.11/site-packages (from aiohttp<4.0.0,>=3.8.6->llama-index-core<0.11.0,>=0.10.0->llama-index-retrievers-bedrock) (1.9.4)\n",
      "Requirement already satisfied: pydantic>=1.10 in /Users/suo/dev/odr-poc/.env/lib/python3.11/site-packages (from llamaindex-py-client<0.2.0,>=0.1.16->llama-index-core<0.11.0,>=0.10.0->llama-index-retrievers-bedrock) (2.7.0)\n",
      "Requirement already satisfied: anyio in /Users/suo/dev/odr-poc/.env/lib/python3.11/site-packages (from httpx->llama-index-core<0.11.0,>=0.10.0->llama-index-retrievers-bedrock) (4.3.0)\n",
      "Requirement already satisfied: certifi in /Users/suo/dev/odr-poc/.env/lib/python3.11/site-packages (from httpx->llama-index-core<0.11.0,>=0.10.0->llama-index-retrievers-bedrock) (2024.2.2)\n",
      "Requirement already satisfied: httpcore==1.* in /Users/suo/dev/odr-poc/.env/lib/python3.11/site-packages (from httpx->llama-index-core<0.11.0,>=0.10.0->llama-index-retrievers-bedrock) (1.0.5)\n",
      "Requirement already satisfied: idna in /Users/suo/dev/odr-poc/.env/lib/python3.11/site-packages (from httpx->llama-index-core<0.11.0,>=0.10.0->llama-index-retrievers-bedrock) (3.7)\n",
      "Requirement already satisfied: sniffio in /Users/suo/dev/odr-poc/.env/lib/python3.11/site-packages (from httpx->llama-index-core<0.11.0,>=0.10.0->llama-index-retrievers-bedrock) (1.3.1)\n",
      "Requirement already satisfied: h11<0.15,>=0.13 in /Users/suo/dev/odr-poc/.env/lib/python3.11/site-packages (from httpcore==1.*->httpx->llama-index-core<0.11.0,>=0.10.0->llama-index-retrievers-bedrock) (0.14.0)\n",
      "Requirement already satisfied: click in /Users/suo/dev/odr-poc/.env/lib/python3.11/site-packages (from nltk<4.0.0,>=3.8.1->llama-index-core<0.11.0,>=0.10.0->llama-index-retrievers-bedrock) (8.1.7)\n",
      "Requirement already satisfied: joblib in /Users/suo/dev/odr-poc/.env/lib/python3.11/site-packages (from nltk<4.0.0,>=3.8.1->llama-index-core<0.11.0,>=0.10.0->llama-index-retrievers-bedrock) (1.4.0)\n",
      "Requirement already satisfied: regex>=2021.8.3 in /Users/suo/dev/odr-poc/.env/lib/python3.11/site-packages (from nltk<4.0.0,>=3.8.1->llama-index-core<0.11.0,>=0.10.0->llama-index-retrievers-bedrock) (2023.12.25)\n",
      "Requirement already satisfied: distro<2,>=1.7.0 in /Users/suo/dev/odr-poc/.env/lib/python3.11/site-packages (from openai>=1.1.0->llama-index-core<0.11.0,>=0.10.0->llama-index-retrievers-bedrock) (1.9.0)\n",
      "Requirement already satisfied: charset-normalizer<4,>=2 in /Users/suo/dev/odr-poc/.env/lib/python3.11/site-packages (from requests>=2.31.0->llama-index-core<0.11.0,>=0.10.0->llama-index-retrievers-bedrock) (3.3.2)\n",
      "Requirement already satisfied: urllib3<3,>=1.21.1 in /Users/suo/dev/odr-poc/.env/lib/python3.11/site-packages (from requests>=2.31.0->llama-index-core<0.11.0,>=0.10.0->llama-index-retrievers-bedrock) (2.2.1)\n",
      "Requirement already satisfied: greenlet!=0.4.17 in /Users/suo/dev/odr-poc/.env/lib/python3.11/site-packages (from SQLAlchemy[asyncio]>=1.4.49->llama-index-core<0.11.0,>=0.10.0->llama-index-retrievers-bedrock) (3.0.3)\n",
      "Requirement already satisfied: mypy-extensions>=0.3.0 in /Users/suo/dev/odr-poc/.env/lib/python3.11/site-packages (from typing-inspect>=0.8.0->llama-index-core<0.11.0,>=0.10.0->llama-index-retrievers-bedrock) (1.0.0)\n",
      "Requirement already satisfied: marshmallow<4.0.0,>=3.18.0 in /Users/suo/dev/odr-poc/.env/lib/python3.11/site-packages (from dataclasses-json->llama-index-core<0.11.0,>=0.10.0->llama-index-retrievers-bedrock) (3.21.1)\n",
      "Requirement already satisfied: python-dateutil>=2.8.2 in /Users/suo/dev/odr-poc/.env/lib/python3.11/site-packages (from pandas->llama-index-core<0.11.0,>=0.10.0->llama-index-retrievers-bedrock) (2.9.0.post0)\n",
      "Requirement already satisfied: pytz>=2020.1 in /Users/suo/dev/odr-poc/.env/lib/python3.11/site-packages (from pandas->llama-index-core<0.11.0,>=0.10.0->llama-index-retrievers-bedrock) (2024.1)\n",
      "Requirement already satisfied: tzdata>=2022.7 in /Users/suo/dev/odr-poc/.env/lib/python3.11/site-packages (from pandas->llama-index-core<0.11.0,>=0.10.0->llama-index-retrievers-bedrock) (2024.1)\n",
      "Requirement already satisfied: packaging>=17.0 in /Users/suo/dev/odr-poc/.env/lib/python3.11/site-packages (from marshmallow<4.0.0,>=3.18.0->dataclasses-json->llama-index-core<0.11.0,>=0.10.0->llama-index-retrievers-bedrock) (24.0)\n",
      "Requirement already satisfied: annotated-types>=0.4.0 in /Users/suo/dev/odr-poc/.env/lib/python3.11/site-packages (from pydantic>=1.10->llamaindex-py-client<0.2.0,>=0.1.16->llama-index-core<0.11.0,>=0.10.0->llama-index-retrievers-bedrock) (0.6.0)\n",
      "Requirement already satisfied: pydantic-core==2.18.1 in /Users/suo/dev/odr-poc/.env/lib/python3.11/site-packages (from pydantic>=1.10->llamaindex-py-client<0.2.0,>=0.1.16->llama-index-core<0.11.0,>=0.10.0->llama-index-retrievers-bedrock) (2.18.1)\n",
      "Requirement already satisfied: six>=1.5 in /Users/suo/dev/odr-poc/.env/lib/python3.11/site-packages (from python-dateutil>=2.8.2->pandas->llama-index-core<0.11.0,>=0.10.0->llama-index-retrievers-bedrock) (1.16.0)\n",
      "\n",
      "\u001b[1m[\u001b[0m\u001b[34;49mnotice\u001b[0m\u001b[1;39;49m]\u001b[0m\u001b[39;49m A new release of pip available: \u001b[0m\u001b[31;49m22.3.1\u001b[0m\u001b[39;49m -> \u001b[0m\u001b[32;49m24.0\u001b[0m\n",
      "\u001b[1m[\u001b[0m\u001b[34;49mnotice\u001b[0m\u001b[1;39;49m]\u001b[0m\u001b[39;49m To update, run: \u001b[0m\u001b[32;49mpip install --upgrade pip\u001b[0m\n",
      "Note: you may need to restart the kernel to use updated packages.\n"
     ]
    }
   ],
   "source": [
    "%pip install llama-index-llms-bedrock\n",
    "%pip install llama-index-retrievers-bedrock"
   ]
  },
  {
   "cell_type": "markdown",
   "id": "f0ea772c-0485-4c1e-ab1a-5d41f4198ad2",
   "metadata": {},
   "source": [
    "### Parsing & Ingestion"
   ]
  },
  {
   "cell_type": "markdown",
   "id": "8267285b-4bfb-45c1-a6c8-b290b75b9d5d",
   "metadata": {},
   "source": [
    "Todo: use LlamaParse and ingest data into OpenSearch  \n",
    "Todo: figure out how to ingest into OpenSearch"
   ]
  },
  {
   "cell_type": "markdown",
   "id": "a924f69f-fa7f-496e-a009-39519c9baecb",
   "metadata": {},
   "source": [
    "Reference: https://docs.llamaindex.ai/en/stable/examples/vector_stores/OpensearchDemo/?h=opensearch"
   ]
  },
  {
   "cell_type": "code",
   "execution_count": null,
   "id": "528d340c-5e7b-4041-8066-d0f93edf48bc",
   "metadata": {},
   "outputs": [],
   "source": []
  },
  {
   "cell_type": "markdown",
   "id": "b6f320af-87f6-4d2c-ba50-c0aa3171b596",
   "metadata": {},
   "source": [
    "### Retrieval"
   ]
  },
  {
   "cell_type": "markdown",
   "id": "66a68c70-8ad3-40b8-b3d8-0d202469574d",
   "metadata": {},
   "source": [
    "Reference: https://github.com/run-llama/llama_index/blob/main/docs/docs/examples/retrievers/bedrock_retriever.ipynb"
   ]
  },
  {
   "cell_type": "code",
   "execution_count": 2,
   "id": "af0f93c3-77bc-4d21-a432-4515504254ca",
   "metadata": {},
   "outputs": [],
   "source": [
    "from llama_index.retrievers.bedrock import AmazonKnowledgeBasesRetriever"
   ]
  },
  {
   "cell_type": "code",
   "execution_count": 3,
   "id": "593aff64-0d7f-49d6-bf2b-0fab3e5c0c1c",
   "metadata": {
    "scrolled": true
   },
   "outputs": [
    {
     "ename": "NameError",
     "evalue": "name 'AmazonKnowledgeBasesRetriever' is not defined",
     "output_type": "error",
     "traceback": [
      "\u001b[0;31m---------------------------------------------------------------------------\u001b[0m",
      "\u001b[0;31mNameError\u001b[0m                                 Traceback (most recent call last)",
      "Cell \u001b[0;32mIn[3], line 1\u001b[0m\n\u001b[0;32m----> 1\u001b[0m retriever \u001b[38;5;241m=\u001b[39m \u001b[43mAmazonKnowledgeBasesRetriever\u001b[49m(\n\u001b[1;32m      2\u001b[0m     knowledge_base_id\u001b[38;5;241m=\u001b[39m\u001b[38;5;124m\"\u001b[39m\u001b[38;5;124m<knowledge-base-id>\u001b[39m\u001b[38;5;124m\"\u001b[39m,\n\u001b[1;32m      3\u001b[0m     retrieval_config\u001b[38;5;241m=\u001b[39m{\n\u001b[1;32m      4\u001b[0m         \u001b[38;5;124m\"\u001b[39m\u001b[38;5;124mvectorSearchConfiguration\u001b[39m\u001b[38;5;124m\"\u001b[39m: {\n\u001b[1;32m      5\u001b[0m             \u001b[38;5;124m\"\u001b[39m\u001b[38;5;124mnumberOfResults\u001b[39m\u001b[38;5;124m\"\u001b[39m: \u001b[38;5;241m4\u001b[39m,\n\u001b[1;32m      6\u001b[0m             \u001b[38;5;124m\"\u001b[39m\u001b[38;5;124moverrideSearchType\u001b[39m\u001b[38;5;124m\"\u001b[39m: \u001b[38;5;124m\"\u001b[39m\u001b[38;5;124mHYBRID\u001b[39m\u001b[38;5;124m\"\u001b[39m,\n\u001b[1;32m      7\u001b[0m             \u001b[38;5;124m\"\u001b[39m\u001b[38;5;124mfilter\u001b[39m\u001b[38;5;124m\"\u001b[39m: {\u001b[38;5;124m\"\u001b[39m\u001b[38;5;124mequals\u001b[39m\u001b[38;5;124m\"\u001b[39m: {\u001b[38;5;124m\"\u001b[39m\u001b[38;5;124mkey\u001b[39m\u001b[38;5;124m\"\u001b[39m: \u001b[38;5;124m\"\u001b[39m\u001b[38;5;124mtag\u001b[39m\u001b[38;5;124m\"\u001b[39m, \u001b[38;5;124m\"\u001b[39m\u001b[38;5;124mvalue\u001b[39m\u001b[38;5;124m\"\u001b[39m: \u001b[38;5;124m\"\u001b[39m\u001b[38;5;124mspace\u001b[39m\u001b[38;5;124m\"\u001b[39m}},\n\u001b[1;32m      8\u001b[0m         }\n\u001b[1;32m      9\u001b[0m     },\n\u001b[1;32m     10\u001b[0m )\n",
      "\u001b[0;31mNameError\u001b[0m: name 'AmazonKnowledgeBasesRetriever' is not defined"
     ]
    }
   ],
   "source": [
    "retriever = AmazonKnowledgeBasesRetriever(\n",
    "    knowledge_base_id=\"<knowledge-base-id>\",\n",
    "    retrieval_config={\n",
    "        \"vectorSearchConfiguration\": {\n",
    "            \"numberOfResults\": 4,\n",
    "            \"overrideSearchType\": \"HYBRID\",\n",
    "            \"filter\": {\"equals\": {\"key\": \"tag\", \"value\": \"space\"}},\n",
    "        }\n",
    "    },\n",
    ")"
   ]
  },
  {
   "cell_type": "code",
   "execution_count": null,
   "id": "75afcc66-c59e-44b7-94cc-3260f1e294c2",
   "metadata": {},
   "outputs": [],
   "source": []
  }
 ],
 "metadata": {
  "kernelspec": {
   "display_name": "Python 3 (ipykernel)",
   "language": "python",
   "name": "python3"
  },
  "language_info": {
   "codemirror_mode": {
    "name": "ipython",
    "version": 3
   },
   "file_extension": ".py",
   "mimetype": "text/x-python",
   "name": "python",
   "nbconvert_exporter": "python",
   "pygments_lexer": "ipython3",
   "version": "3.11.3"
  }
 },
 "nbformat": 4,
 "nbformat_minor": 5
}
