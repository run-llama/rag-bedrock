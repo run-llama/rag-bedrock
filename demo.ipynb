{
 "cells": [
  {
   "cell_type": "markdown",
   "id": "b8ab5729-357b-4190-b9a7-c0548a964f0c",
   "metadata": {},
   "source": [
    "# LlamaIndex <> Bedrock"
   ]
  },
  {
   "cell_type": "code",
   "execution_count": null,
   "id": "50d9c7d7-d457-4020-9a7d-e2ec3b3e18f0",
   "metadata": {},
   "outputs": [],
   "source": []
  }
 ],
 "metadata": {
  "kernelspec": {
   "display_name": "Python 3 (ipykernel)",
   "language": "python",
   "name": "python3"
  },
  "language_info": {
   "codemirror_mode": {
    "name": "ipython",
    "version": 3
   },
   "file_extension": ".py",
   "mimetype": "text/x-python",
   "name": "python",
   "nbconvert_exporter": "python",
   "pygments_lexer": "ipython3",
   "version": "3.11.3"
  }
 },
 "nbformat": 4,
 "nbformat_minor": 5
}
