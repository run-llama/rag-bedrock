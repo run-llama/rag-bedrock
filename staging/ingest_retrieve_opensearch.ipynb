{
 "cells": [
  {
   "cell_type": "markdown",
   "id": "b8ab5729-357b-4190-b9a7-c0548a964f0c",
   "metadata": {},
   "source": [
    "# Ingestion into Amazon Opensearch Serverless "
   ]
  },
  {
   "cell_type": "markdown",
   "id": "e3fb0876-59f2-4cbc-a0d3-e3ffe35ec1bb",
   "metadata": {},
   "source": [
    "### Setup environment"
   ]
  },
  {
   "cell_type": "code",
   "execution_count": 107,
   "id": "50d9c7d7-d457-4020-9a7d-e2ec3b3e18f0",
   "metadata": {
    "scrolled": true
   },
   "outputs": [
    {
     "name": "stdout",
     "output_type": "stream",
     "text": [
      "Collecting llama-index-llms-bedrock\n",
      "  Using cached llama_index_llms_bedrock-0.1.6-py3-none-any.whl (8.2 kB)\n",
      "Requirement already satisfied: boto3<2.0.0,>=1.34.26 in /Users/suo/dev/odr-poc/.env/lib/python3.11/site-packages (from llama-index-llms-bedrock) (1.34.85)\n",
      "Requirement already satisfied: llama-index-core<0.11.0,>=0.10.1 in /Users/suo/dev/odr-poc/.env/lib/python3.11/site-packages (from llama-index-llms-bedrock) (0.10.30)\n",
      "Collecting llama-index-llms-anthropic<0.2.0,>=0.1.7\n",
      "  Using cached llama_index_llms_anthropic-0.1.10-py3-none-any.whl (6.1 kB)\n",
      "Requirement already satisfied: botocore<1.35.0,>=1.34.85 in /Users/suo/dev/odr-poc/.env/lib/python3.11/site-packages (from boto3<2.0.0,>=1.34.26->llama-index-llms-bedrock) (1.34.85)\n",
      "Requirement already satisfied: jmespath<2.0.0,>=0.7.1 in /Users/suo/dev/odr-poc/.env/lib/python3.11/site-packages (from boto3<2.0.0,>=1.34.26->llama-index-llms-bedrock) (1.0.1)\n",
      "Requirement already satisfied: s3transfer<0.11.0,>=0.10.0 in /Users/suo/dev/odr-poc/.env/lib/python3.11/site-packages (from boto3<2.0.0,>=1.34.26->llama-index-llms-bedrock) (0.10.1)\n",
      "Requirement already satisfied: PyYAML>=6.0.1 in /Users/suo/dev/odr-poc/.env/lib/python3.11/site-packages (from llama-index-core<0.11.0,>=0.10.1->llama-index-llms-bedrock) (6.0.1)\n",
      "Requirement already satisfied: SQLAlchemy[asyncio]>=1.4.49 in /Users/suo/dev/odr-poc/.env/lib/python3.11/site-packages (from llama-index-core<0.11.0,>=0.10.1->llama-index-llms-bedrock) (2.0.29)\n",
      "Requirement already satisfied: aiohttp<4.0.0,>=3.8.6 in /Users/suo/dev/odr-poc/.env/lib/python3.11/site-packages (from llama-index-core<0.11.0,>=0.10.1->llama-index-llms-bedrock) (3.9.4)\n",
      "Requirement already satisfied: dataclasses-json in /Users/suo/dev/odr-poc/.env/lib/python3.11/site-packages (from llama-index-core<0.11.0,>=0.10.1->llama-index-llms-bedrock) (0.6.4)\n",
      "Requirement already satisfied: deprecated>=1.2.9.3 in /Users/suo/dev/odr-poc/.env/lib/python3.11/site-packages (from llama-index-core<0.11.0,>=0.10.1->llama-index-llms-bedrock) (1.2.14)\n",
      "Requirement already satisfied: dirtyjson<2.0.0,>=1.0.8 in /Users/suo/dev/odr-poc/.env/lib/python3.11/site-packages (from llama-index-core<0.11.0,>=0.10.1->llama-index-llms-bedrock) (1.0.8)\n",
      "Requirement already satisfied: fsspec>=2023.5.0 in /Users/suo/dev/odr-poc/.env/lib/python3.11/site-packages (from llama-index-core<0.11.0,>=0.10.1->llama-index-llms-bedrock) (2024.3.1)\n",
      "Requirement already satisfied: httpx in /Users/suo/dev/odr-poc/.env/lib/python3.11/site-packages (from llama-index-core<0.11.0,>=0.10.1->llama-index-llms-bedrock) (0.27.0)\n",
      "Requirement already satisfied: llamaindex-py-client<0.2.0,>=0.1.18 in /Users/suo/dev/odr-poc/.env/lib/python3.11/site-packages (from llama-index-core<0.11.0,>=0.10.1->llama-index-llms-bedrock) (0.1.18)\n",
      "Requirement already satisfied: nest-asyncio<2.0.0,>=1.5.8 in /Users/suo/dev/odr-poc/.env/lib/python3.11/site-packages (from llama-index-core<0.11.0,>=0.10.1->llama-index-llms-bedrock) (1.6.0)\n",
      "Requirement already satisfied: networkx>=3.0 in /Users/suo/dev/odr-poc/.env/lib/python3.11/site-packages (from llama-index-core<0.11.0,>=0.10.1->llama-index-llms-bedrock) (3.3)\n",
      "Requirement already satisfied: nltk<4.0.0,>=3.8.1 in /Users/suo/dev/odr-poc/.env/lib/python3.11/site-packages (from llama-index-core<0.11.0,>=0.10.1->llama-index-llms-bedrock) (3.8.1)\n",
      "Requirement already satisfied: numpy in /Users/suo/dev/odr-poc/.env/lib/python3.11/site-packages (from llama-index-core<0.11.0,>=0.10.1->llama-index-llms-bedrock) (1.26.4)\n",
      "Requirement already satisfied: openai>=1.1.0 in /Users/suo/dev/odr-poc/.env/lib/python3.11/site-packages (from llama-index-core<0.11.0,>=0.10.1->llama-index-llms-bedrock) (1.17.0)\n",
      "Requirement already satisfied: pandas in /Users/suo/dev/odr-poc/.env/lib/python3.11/site-packages (from llama-index-core<0.11.0,>=0.10.1->llama-index-llms-bedrock) (2.2.2)\n",
      "Requirement already satisfied: pillow>=9.0.0 in /Users/suo/dev/odr-poc/.env/lib/python3.11/site-packages (from llama-index-core<0.11.0,>=0.10.1->llama-index-llms-bedrock) (10.3.0)\n",
      "Requirement already satisfied: requests>=2.31.0 in /Users/suo/dev/odr-poc/.env/lib/python3.11/site-packages (from llama-index-core<0.11.0,>=0.10.1->llama-index-llms-bedrock) (2.31.0)\n",
      "Requirement already satisfied: tenacity<9.0.0,>=8.2.0 in /Users/suo/dev/odr-poc/.env/lib/python3.11/site-packages (from llama-index-core<0.11.0,>=0.10.1->llama-index-llms-bedrock) (8.2.3)\n",
      "Requirement already satisfied: tiktoken>=0.3.3 in /Users/suo/dev/odr-poc/.env/lib/python3.11/site-packages (from llama-index-core<0.11.0,>=0.10.1->llama-index-llms-bedrock) (0.6.0)\n",
      "Requirement already satisfied: tqdm<5.0.0,>=4.66.1 in /Users/suo/dev/odr-poc/.env/lib/python3.11/site-packages (from llama-index-core<0.11.0,>=0.10.1->llama-index-llms-bedrock) (4.66.2)\n",
      "Requirement already satisfied: typing-extensions>=4.5.0 in /Users/suo/dev/odr-poc/.env/lib/python3.11/site-packages (from llama-index-core<0.11.0,>=0.10.1->llama-index-llms-bedrock) (4.11.0)\n",
      "Requirement already satisfied: typing-inspect>=0.8.0 in /Users/suo/dev/odr-poc/.env/lib/python3.11/site-packages (from llama-index-core<0.11.0,>=0.10.1->llama-index-llms-bedrock) (0.9.0)\n",
      "Requirement already satisfied: wrapt in /Users/suo/dev/odr-poc/.env/lib/python3.11/site-packages (from llama-index-core<0.11.0,>=0.10.1->llama-index-llms-bedrock) (1.16.0)\n",
      "Requirement already satisfied: anthropic<0.24.0,>=0.23.1 in /Users/suo/dev/odr-poc/.env/lib/python3.11/site-packages (from llama-index-llms-anthropic<0.2.0,>=0.1.7->llama-index-llms-bedrock) (0.23.1)\n",
      "Requirement already satisfied: aiosignal>=1.1.2 in /Users/suo/dev/odr-poc/.env/lib/python3.11/site-packages (from aiohttp<4.0.0,>=3.8.6->llama-index-core<0.11.0,>=0.10.1->llama-index-llms-bedrock) (1.3.1)\n",
      "Requirement already satisfied: attrs>=17.3.0 in /Users/suo/dev/odr-poc/.env/lib/python3.11/site-packages (from aiohttp<4.0.0,>=3.8.6->llama-index-core<0.11.0,>=0.10.1->llama-index-llms-bedrock) (23.2.0)\n",
      "Requirement already satisfied: frozenlist>=1.1.1 in /Users/suo/dev/odr-poc/.env/lib/python3.11/site-packages (from aiohttp<4.0.0,>=3.8.6->llama-index-core<0.11.0,>=0.10.1->llama-index-llms-bedrock) (1.4.1)\n",
      "Requirement already satisfied: multidict<7.0,>=4.5 in /Users/suo/dev/odr-poc/.env/lib/python3.11/site-packages (from aiohttp<4.0.0,>=3.8.6->llama-index-core<0.11.0,>=0.10.1->llama-index-llms-bedrock) (6.0.5)\n",
      "Requirement already satisfied: yarl<2.0,>=1.0 in /Users/suo/dev/odr-poc/.env/lib/python3.11/site-packages (from aiohttp<4.0.0,>=3.8.6->llama-index-core<0.11.0,>=0.10.1->llama-index-llms-bedrock) (1.9.4)\n",
      "Requirement already satisfied: anyio<5,>=3.5.0 in /Users/suo/dev/odr-poc/.env/lib/python3.11/site-packages (from anthropic<0.24.0,>=0.23.1->llama-index-llms-anthropic<0.2.0,>=0.1.7->llama-index-llms-bedrock) (4.3.0)\n",
      "Requirement already satisfied: distro<2,>=1.7.0 in /Users/suo/dev/odr-poc/.env/lib/python3.11/site-packages (from anthropic<0.24.0,>=0.23.1->llama-index-llms-anthropic<0.2.0,>=0.1.7->llama-index-llms-bedrock) (1.9.0)\n",
      "Requirement already satisfied: pydantic<3,>=1.9.0 in /Users/suo/dev/odr-poc/.env/lib/python3.11/site-packages (from anthropic<0.24.0,>=0.23.1->llama-index-llms-anthropic<0.2.0,>=0.1.7->llama-index-llms-bedrock) (2.7.0)\n",
      "Requirement already satisfied: sniffio in /Users/suo/dev/odr-poc/.env/lib/python3.11/site-packages (from anthropic<0.24.0,>=0.23.1->llama-index-llms-anthropic<0.2.0,>=0.1.7->llama-index-llms-bedrock) (1.3.1)\n",
      "Requirement already satisfied: tokenizers>=0.13.0 in /Users/suo/dev/odr-poc/.env/lib/python3.11/site-packages (from anthropic<0.24.0,>=0.23.1->llama-index-llms-anthropic<0.2.0,>=0.1.7->llama-index-llms-bedrock) (0.19.0)\n",
      "Requirement already satisfied: python-dateutil<3.0.0,>=2.1 in /Users/suo/dev/odr-poc/.env/lib/python3.11/site-packages (from botocore<1.35.0,>=1.34.85->boto3<2.0.0,>=1.34.26->llama-index-llms-bedrock) (2.9.0.post0)\n",
      "Requirement already satisfied: urllib3!=2.2.0,<3,>=1.25.4 in /Users/suo/dev/odr-poc/.env/lib/python3.11/site-packages (from botocore<1.35.0,>=1.34.85->boto3<2.0.0,>=1.34.26->llama-index-llms-bedrock) (1.26.18)\n",
      "Requirement already satisfied: certifi in /Users/suo/dev/odr-poc/.env/lib/python3.11/site-packages (from httpx->llama-index-core<0.11.0,>=0.10.1->llama-index-llms-bedrock) (2024.2.2)\n",
      "Requirement already satisfied: httpcore==1.* in /Users/suo/dev/odr-poc/.env/lib/python3.11/site-packages (from httpx->llama-index-core<0.11.0,>=0.10.1->llama-index-llms-bedrock) (1.0.5)\n",
      "Requirement already satisfied: idna in /Users/suo/dev/odr-poc/.env/lib/python3.11/site-packages (from httpx->llama-index-core<0.11.0,>=0.10.1->llama-index-llms-bedrock) (3.7)\n",
      "Requirement already satisfied: h11<0.15,>=0.13 in /Users/suo/dev/odr-poc/.env/lib/python3.11/site-packages (from httpcore==1.*->httpx->llama-index-core<0.11.0,>=0.10.1->llama-index-llms-bedrock) (0.14.0)\n",
      "Requirement already satisfied: click in /Users/suo/dev/odr-poc/.env/lib/python3.11/site-packages (from nltk<4.0.0,>=3.8.1->llama-index-core<0.11.0,>=0.10.1->llama-index-llms-bedrock) (8.1.7)\n",
      "Requirement already satisfied: joblib in /Users/suo/dev/odr-poc/.env/lib/python3.11/site-packages (from nltk<4.0.0,>=3.8.1->llama-index-core<0.11.0,>=0.10.1->llama-index-llms-bedrock) (1.4.0)\n",
      "Requirement already satisfied: regex>=2021.8.3 in /Users/suo/dev/odr-poc/.env/lib/python3.11/site-packages (from nltk<4.0.0,>=3.8.1->llama-index-core<0.11.0,>=0.10.1->llama-index-llms-bedrock) (2023.12.25)\n",
      "Requirement already satisfied: charset-normalizer<4,>=2 in /Users/suo/dev/odr-poc/.env/lib/python3.11/site-packages (from requests>=2.31.0->llama-index-core<0.11.0,>=0.10.1->llama-index-llms-bedrock) (3.3.2)\n",
      "Requirement already satisfied: greenlet!=0.4.17 in /Users/suo/dev/odr-poc/.env/lib/python3.11/site-packages (from SQLAlchemy[asyncio]>=1.4.49->llama-index-core<0.11.0,>=0.10.1->llama-index-llms-bedrock) (3.0.3)\n",
      "Requirement already satisfied: mypy-extensions>=0.3.0 in /Users/suo/dev/odr-poc/.env/lib/python3.11/site-packages (from typing-inspect>=0.8.0->llama-index-core<0.11.0,>=0.10.1->llama-index-llms-bedrock) (1.0.0)\n",
      "Requirement already satisfied: marshmallow<4.0.0,>=3.18.0 in /Users/suo/dev/odr-poc/.env/lib/python3.11/site-packages (from dataclasses-json->llama-index-core<0.11.0,>=0.10.1->llama-index-llms-bedrock) (3.21.1)\n",
      "Requirement already satisfied: pytz>=2020.1 in /Users/suo/dev/odr-poc/.env/lib/python3.11/site-packages (from pandas->llama-index-core<0.11.0,>=0.10.1->llama-index-llms-bedrock) (2024.1)\n",
      "Requirement already satisfied: tzdata>=2022.7 in /Users/suo/dev/odr-poc/.env/lib/python3.11/site-packages (from pandas->llama-index-core<0.11.0,>=0.10.1->llama-index-llms-bedrock) (2024.1)\n",
      "Requirement already satisfied: packaging>=17.0 in /Users/suo/dev/odr-poc/.env/lib/python3.11/site-packages (from marshmallow<4.0.0,>=3.18.0->dataclasses-json->llama-index-core<0.11.0,>=0.10.1->llama-index-llms-bedrock) (24.0)\n",
      "Requirement already satisfied: annotated-types>=0.4.0 in /Users/suo/dev/odr-poc/.env/lib/python3.11/site-packages (from pydantic<3,>=1.9.0->anthropic<0.24.0,>=0.23.1->llama-index-llms-anthropic<0.2.0,>=0.1.7->llama-index-llms-bedrock) (0.6.0)\n",
      "Requirement already satisfied: pydantic-core==2.18.1 in /Users/suo/dev/odr-poc/.env/lib/python3.11/site-packages (from pydantic<3,>=1.9.0->anthropic<0.24.0,>=0.23.1->llama-index-llms-anthropic<0.2.0,>=0.1.7->llama-index-llms-bedrock) (2.18.1)\n",
      "Requirement already satisfied: six>=1.5 in /Users/suo/dev/odr-poc/.env/lib/python3.11/site-packages (from python-dateutil<3.0.0,>=2.1->botocore<1.35.0,>=1.34.85->boto3<2.0.0,>=1.34.26->llama-index-llms-bedrock) (1.16.0)\n",
      "Requirement already satisfied: huggingface-hub<1.0,>=0.16.4 in /Users/suo/dev/odr-poc/.env/lib/python3.11/site-packages (from tokenizers>=0.13.0->anthropic<0.24.0,>=0.23.1->llama-index-llms-anthropic<0.2.0,>=0.1.7->llama-index-llms-bedrock) (0.22.2)\n",
      "Requirement already satisfied: filelock in /Users/suo/dev/odr-poc/.env/lib/python3.11/site-packages (from huggingface-hub<1.0,>=0.16.4->tokenizers>=0.13.0->anthropic<0.24.0,>=0.23.1->llama-index-llms-anthropic<0.2.0,>=0.1.7->llama-index-llms-bedrock) (3.13.4)\n",
      "Installing collected packages: llama-index-llms-anthropic, llama-index-llms-bedrock\n",
      "Successfully installed llama-index-llms-anthropic-0.1.10 llama-index-llms-bedrock-0.1.6\n",
      "\n",
      "\u001b[1m[\u001b[0m\u001b[34;49mnotice\u001b[0m\u001b[1;39;49m]\u001b[0m\u001b[39;49m A new release of pip available: \u001b[0m\u001b[31;49m22.3.1\u001b[0m\u001b[39;49m -> \u001b[0m\u001b[32;49m24.0\u001b[0m\n",
      "\u001b[1m[\u001b[0m\u001b[34;49mnotice\u001b[0m\u001b[1;39;49m]\u001b[0m\u001b[39;49m To update, run: \u001b[0m\u001b[32;49mpip install --upgrade pip\u001b[0m\n",
      "Note: you may need to restart the kernel to use updated packages.\n",
      "Collecting llama-index-retrievers-bedrock\n",
      "  Using cached llama_index_retrievers_bedrock-0.1.0-py3-none-any.whl (3.6 kB)\n",
      "Requirement already satisfied: llama-index-core<0.11.0,>=0.10.0 in /Users/suo/dev/odr-poc/.env/lib/python3.11/site-packages (from llama-index-retrievers-bedrock) (0.10.30)\n",
      "Requirement already satisfied: PyYAML>=6.0.1 in /Users/suo/dev/odr-poc/.env/lib/python3.11/site-packages (from llama-index-core<0.11.0,>=0.10.0->llama-index-retrievers-bedrock) (6.0.1)\n",
      "Requirement already satisfied: SQLAlchemy[asyncio]>=1.4.49 in /Users/suo/dev/odr-poc/.env/lib/python3.11/site-packages (from llama-index-core<0.11.0,>=0.10.0->llama-index-retrievers-bedrock) (2.0.29)\n",
      "Requirement already satisfied: aiohttp<4.0.0,>=3.8.6 in /Users/suo/dev/odr-poc/.env/lib/python3.11/site-packages (from llama-index-core<0.11.0,>=0.10.0->llama-index-retrievers-bedrock) (3.9.4)\n",
      "Requirement already satisfied: dataclasses-json in /Users/suo/dev/odr-poc/.env/lib/python3.11/site-packages (from llama-index-core<0.11.0,>=0.10.0->llama-index-retrievers-bedrock) (0.6.4)\n",
      "Requirement already satisfied: deprecated>=1.2.9.3 in /Users/suo/dev/odr-poc/.env/lib/python3.11/site-packages (from llama-index-core<0.11.0,>=0.10.0->llama-index-retrievers-bedrock) (1.2.14)\n",
      "Requirement already satisfied: dirtyjson<2.0.0,>=1.0.8 in /Users/suo/dev/odr-poc/.env/lib/python3.11/site-packages (from llama-index-core<0.11.0,>=0.10.0->llama-index-retrievers-bedrock) (1.0.8)\n",
      "Requirement already satisfied: fsspec>=2023.5.0 in /Users/suo/dev/odr-poc/.env/lib/python3.11/site-packages (from llama-index-core<0.11.0,>=0.10.0->llama-index-retrievers-bedrock) (2024.3.1)\n",
      "Requirement already satisfied: httpx in /Users/suo/dev/odr-poc/.env/lib/python3.11/site-packages (from llama-index-core<0.11.0,>=0.10.0->llama-index-retrievers-bedrock) (0.27.0)\n",
      "Requirement already satisfied: llamaindex-py-client<0.2.0,>=0.1.18 in /Users/suo/dev/odr-poc/.env/lib/python3.11/site-packages (from llama-index-core<0.11.0,>=0.10.0->llama-index-retrievers-bedrock) (0.1.18)\n",
      "Requirement already satisfied: nest-asyncio<2.0.0,>=1.5.8 in /Users/suo/dev/odr-poc/.env/lib/python3.11/site-packages (from llama-index-core<0.11.0,>=0.10.0->llama-index-retrievers-bedrock) (1.6.0)\n",
      "Requirement already satisfied: networkx>=3.0 in /Users/suo/dev/odr-poc/.env/lib/python3.11/site-packages (from llama-index-core<0.11.0,>=0.10.0->llama-index-retrievers-bedrock) (3.3)\n",
      "Requirement already satisfied: nltk<4.0.0,>=3.8.1 in /Users/suo/dev/odr-poc/.env/lib/python3.11/site-packages (from llama-index-core<0.11.0,>=0.10.0->llama-index-retrievers-bedrock) (3.8.1)\n",
      "Requirement already satisfied: numpy in /Users/suo/dev/odr-poc/.env/lib/python3.11/site-packages (from llama-index-core<0.11.0,>=0.10.0->llama-index-retrievers-bedrock) (1.26.4)\n",
      "Requirement already satisfied: openai>=1.1.0 in /Users/suo/dev/odr-poc/.env/lib/python3.11/site-packages (from llama-index-core<0.11.0,>=0.10.0->llama-index-retrievers-bedrock) (1.17.0)\n",
      "Requirement already satisfied: pandas in /Users/suo/dev/odr-poc/.env/lib/python3.11/site-packages (from llama-index-core<0.11.0,>=0.10.0->llama-index-retrievers-bedrock) (2.2.2)\n",
      "Requirement already satisfied: pillow>=9.0.0 in /Users/suo/dev/odr-poc/.env/lib/python3.11/site-packages (from llama-index-core<0.11.0,>=0.10.0->llama-index-retrievers-bedrock) (10.3.0)\n",
      "Requirement already satisfied: requests>=2.31.0 in /Users/suo/dev/odr-poc/.env/lib/python3.11/site-packages (from llama-index-core<0.11.0,>=0.10.0->llama-index-retrievers-bedrock) (2.31.0)\n",
      "Requirement already satisfied: tenacity<9.0.0,>=8.2.0 in /Users/suo/dev/odr-poc/.env/lib/python3.11/site-packages (from llama-index-core<0.11.0,>=0.10.0->llama-index-retrievers-bedrock) (8.2.3)\n",
      "Requirement already satisfied: tiktoken>=0.3.3 in /Users/suo/dev/odr-poc/.env/lib/python3.11/site-packages (from llama-index-core<0.11.0,>=0.10.0->llama-index-retrievers-bedrock) (0.6.0)\n",
      "Requirement already satisfied: tqdm<5.0.0,>=4.66.1 in /Users/suo/dev/odr-poc/.env/lib/python3.11/site-packages (from llama-index-core<0.11.0,>=0.10.0->llama-index-retrievers-bedrock) (4.66.2)\n",
      "Requirement already satisfied: typing-extensions>=4.5.0 in /Users/suo/dev/odr-poc/.env/lib/python3.11/site-packages (from llama-index-core<0.11.0,>=0.10.0->llama-index-retrievers-bedrock) (4.11.0)\n",
      "Requirement already satisfied: typing-inspect>=0.8.0 in /Users/suo/dev/odr-poc/.env/lib/python3.11/site-packages (from llama-index-core<0.11.0,>=0.10.0->llama-index-retrievers-bedrock) (0.9.0)\n",
      "Requirement already satisfied: wrapt in /Users/suo/dev/odr-poc/.env/lib/python3.11/site-packages (from llama-index-core<0.11.0,>=0.10.0->llama-index-retrievers-bedrock) (1.16.0)\n",
      "Requirement already satisfied: aiosignal>=1.1.2 in /Users/suo/dev/odr-poc/.env/lib/python3.11/site-packages (from aiohttp<4.0.0,>=3.8.6->llama-index-core<0.11.0,>=0.10.0->llama-index-retrievers-bedrock) (1.3.1)\n",
      "Requirement already satisfied: attrs>=17.3.0 in /Users/suo/dev/odr-poc/.env/lib/python3.11/site-packages (from aiohttp<4.0.0,>=3.8.6->llama-index-core<0.11.0,>=0.10.0->llama-index-retrievers-bedrock) (23.2.0)\n",
      "Requirement already satisfied: frozenlist>=1.1.1 in /Users/suo/dev/odr-poc/.env/lib/python3.11/site-packages (from aiohttp<4.0.0,>=3.8.6->llama-index-core<0.11.0,>=0.10.0->llama-index-retrievers-bedrock) (1.4.1)\n",
      "Requirement already satisfied: multidict<7.0,>=4.5 in /Users/suo/dev/odr-poc/.env/lib/python3.11/site-packages (from aiohttp<4.0.0,>=3.8.6->llama-index-core<0.11.0,>=0.10.0->llama-index-retrievers-bedrock) (6.0.5)\n",
      "Requirement already satisfied: yarl<2.0,>=1.0 in /Users/suo/dev/odr-poc/.env/lib/python3.11/site-packages (from aiohttp<4.0.0,>=3.8.6->llama-index-core<0.11.0,>=0.10.0->llama-index-retrievers-bedrock) (1.9.4)\n",
      "Requirement already satisfied: pydantic>=1.10 in /Users/suo/dev/odr-poc/.env/lib/python3.11/site-packages (from llamaindex-py-client<0.2.0,>=0.1.18->llama-index-core<0.11.0,>=0.10.0->llama-index-retrievers-bedrock) (2.7.0)\n",
      "Requirement already satisfied: anyio in /Users/suo/dev/odr-poc/.env/lib/python3.11/site-packages (from httpx->llama-index-core<0.11.0,>=0.10.0->llama-index-retrievers-bedrock) (4.3.0)\n",
      "Requirement already satisfied: certifi in /Users/suo/dev/odr-poc/.env/lib/python3.11/site-packages (from httpx->llama-index-core<0.11.0,>=0.10.0->llama-index-retrievers-bedrock) (2024.2.2)\n",
      "Requirement already satisfied: httpcore==1.* in /Users/suo/dev/odr-poc/.env/lib/python3.11/site-packages (from httpx->llama-index-core<0.11.0,>=0.10.0->llama-index-retrievers-bedrock) (1.0.5)\n",
      "Requirement already satisfied: idna in /Users/suo/dev/odr-poc/.env/lib/python3.11/site-packages (from httpx->llama-index-core<0.11.0,>=0.10.0->llama-index-retrievers-bedrock) (3.7)\n",
      "Requirement already satisfied: sniffio in /Users/suo/dev/odr-poc/.env/lib/python3.11/site-packages (from httpx->llama-index-core<0.11.0,>=0.10.0->llama-index-retrievers-bedrock) (1.3.1)\n",
      "Requirement already satisfied: h11<0.15,>=0.13 in /Users/suo/dev/odr-poc/.env/lib/python3.11/site-packages (from httpcore==1.*->httpx->llama-index-core<0.11.0,>=0.10.0->llama-index-retrievers-bedrock) (0.14.0)\n",
      "Requirement already satisfied: click in /Users/suo/dev/odr-poc/.env/lib/python3.11/site-packages (from nltk<4.0.0,>=3.8.1->llama-index-core<0.11.0,>=0.10.0->llama-index-retrievers-bedrock) (8.1.7)\n",
      "Requirement already satisfied: joblib in /Users/suo/dev/odr-poc/.env/lib/python3.11/site-packages (from nltk<4.0.0,>=3.8.1->llama-index-core<0.11.0,>=0.10.0->llama-index-retrievers-bedrock) (1.4.0)\n",
      "Requirement already satisfied: regex>=2021.8.3 in /Users/suo/dev/odr-poc/.env/lib/python3.11/site-packages (from nltk<4.0.0,>=3.8.1->llama-index-core<0.11.0,>=0.10.0->llama-index-retrievers-bedrock) (2023.12.25)\n",
      "Requirement already satisfied: distro<2,>=1.7.0 in /Users/suo/dev/odr-poc/.env/lib/python3.11/site-packages (from openai>=1.1.0->llama-index-core<0.11.0,>=0.10.0->llama-index-retrievers-bedrock) (1.9.0)\n",
      "Requirement already satisfied: charset-normalizer<4,>=2 in /Users/suo/dev/odr-poc/.env/lib/python3.11/site-packages (from requests>=2.31.0->llama-index-core<0.11.0,>=0.10.0->llama-index-retrievers-bedrock) (3.3.2)\n",
      "Requirement already satisfied: urllib3<3,>=1.21.1 in /Users/suo/dev/odr-poc/.env/lib/python3.11/site-packages (from requests>=2.31.0->llama-index-core<0.11.0,>=0.10.0->llama-index-retrievers-bedrock) (1.26.18)\n",
      "Requirement already satisfied: greenlet!=0.4.17 in /Users/suo/dev/odr-poc/.env/lib/python3.11/site-packages (from SQLAlchemy[asyncio]>=1.4.49->llama-index-core<0.11.0,>=0.10.0->llama-index-retrievers-bedrock) (3.0.3)\n",
      "Requirement already satisfied: mypy-extensions>=0.3.0 in /Users/suo/dev/odr-poc/.env/lib/python3.11/site-packages (from typing-inspect>=0.8.0->llama-index-core<0.11.0,>=0.10.0->llama-index-retrievers-bedrock) (1.0.0)\n",
      "Requirement already satisfied: marshmallow<4.0.0,>=3.18.0 in /Users/suo/dev/odr-poc/.env/lib/python3.11/site-packages (from dataclasses-json->llama-index-core<0.11.0,>=0.10.0->llama-index-retrievers-bedrock) (3.21.1)\n",
      "Requirement already satisfied: python-dateutil>=2.8.2 in /Users/suo/dev/odr-poc/.env/lib/python3.11/site-packages (from pandas->llama-index-core<0.11.0,>=0.10.0->llama-index-retrievers-bedrock) (2.9.0.post0)\n",
      "Requirement already satisfied: pytz>=2020.1 in /Users/suo/dev/odr-poc/.env/lib/python3.11/site-packages (from pandas->llama-index-core<0.11.0,>=0.10.0->llama-index-retrievers-bedrock) (2024.1)\n",
      "Requirement already satisfied: tzdata>=2022.7 in /Users/suo/dev/odr-poc/.env/lib/python3.11/site-packages (from pandas->llama-index-core<0.11.0,>=0.10.0->llama-index-retrievers-bedrock) (2024.1)\n",
      "Requirement already satisfied: packaging>=17.0 in /Users/suo/dev/odr-poc/.env/lib/python3.11/site-packages (from marshmallow<4.0.0,>=3.18.0->dataclasses-json->llama-index-core<0.11.0,>=0.10.0->llama-index-retrievers-bedrock) (24.0)\n",
      "Requirement already satisfied: annotated-types>=0.4.0 in /Users/suo/dev/odr-poc/.env/lib/python3.11/site-packages (from pydantic>=1.10->llamaindex-py-client<0.2.0,>=0.1.18->llama-index-core<0.11.0,>=0.10.0->llama-index-retrievers-bedrock) (0.6.0)\n",
      "Requirement already satisfied: pydantic-core==2.18.1 in /Users/suo/dev/odr-poc/.env/lib/python3.11/site-packages (from pydantic>=1.10->llamaindex-py-client<0.2.0,>=0.1.18->llama-index-core<0.11.0,>=0.10.0->llama-index-retrievers-bedrock) (2.18.1)\n",
      "Requirement already satisfied: six>=1.5 in /Users/suo/dev/odr-poc/.env/lib/python3.11/site-packages (from python-dateutil>=2.8.2->pandas->llama-index-core<0.11.0,>=0.10.0->llama-index-retrievers-bedrock) (1.16.0)\n",
      "Installing collected packages: llama-index-retrievers-bedrock\n",
      "Successfully installed llama-index-retrievers-bedrock-0.1.0\n",
      "\n",
      "\u001b[1m[\u001b[0m\u001b[34;49mnotice\u001b[0m\u001b[1;39;49m]\u001b[0m\u001b[39;49m A new release of pip available: \u001b[0m\u001b[31;49m22.3.1\u001b[0m\u001b[39;49m -> \u001b[0m\u001b[32;49m24.0\u001b[0m\n",
      "\u001b[1m[\u001b[0m\u001b[34;49mnotice\u001b[0m\u001b[1;39;49m]\u001b[0m\u001b[39;49m To update, run: \u001b[0m\u001b[32;49mpip install --upgrade pip\u001b[0m\n",
      "Note: you may need to restart the kernel to use updated packages.\n",
      "Collecting llama-index-vector-stores-opensearch\n",
      "  Using cached llama_index_vector_stores_opensearch-0.1.8-py3-none-any.whl (6.2 kB)\n",
      "Requirement already satisfied: llama-index-core<0.11.0,>=0.10.1 in /Users/suo/dev/odr-poc/.env/lib/python3.11/site-packages (from llama-index-vector-stores-opensearch) (0.10.30)\n",
      "Requirement already satisfied: opensearch-py[async]<3.0.0,>=2.4.2 in /Users/suo/dev/odr-poc/.env/lib/python3.11/site-packages (from llama-index-vector-stores-opensearch) (2.5.0)\n",
      "Requirement already satisfied: PyYAML>=6.0.1 in /Users/suo/dev/odr-poc/.env/lib/python3.11/site-packages (from llama-index-core<0.11.0,>=0.10.1->llama-index-vector-stores-opensearch) (6.0.1)\n",
      "Requirement already satisfied: SQLAlchemy[asyncio]>=1.4.49 in /Users/suo/dev/odr-poc/.env/lib/python3.11/site-packages (from llama-index-core<0.11.0,>=0.10.1->llama-index-vector-stores-opensearch) (2.0.29)\n",
      "Requirement already satisfied: aiohttp<4.0.0,>=3.8.6 in /Users/suo/dev/odr-poc/.env/lib/python3.11/site-packages (from llama-index-core<0.11.0,>=0.10.1->llama-index-vector-stores-opensearch) (3.9.4)\n",
      "Requirement already satisfied: dataclasses-json in /Users/suo/dev/odr-poc/.env/lib/python3.11/site-packages (from llama-index-core<0.11.0,>=0.10.1->llama-index-vector-stores-opensearch) (0.6.4)\n",
      "Requirement already satisfied: deprecated>=1.2.9.3 in /Users/suo/dev/odr-poc/.env/lib/python3.11/site-packages (from llama-index-core<0.11.0,>=0.10.1->llama-index-vector-stores-opensearch) (1.2.14)\n",
      "Requirement already satisfied: dirtyjson<2.0.0,>=1.0.8 in /Users/suo/dev/odr-poc/.env/lib/python3.11/site-packages (from llama-index-core<0.11.0,>=0.10.1->llama-index-vector-stores-opensearch) (1.0.8)\n",
      "Requirement already satisfied: fsspec>=2023.5.0 in /Users/suo/dev/odr-poc/.env/lib/python3.11/site-packages (from llama-index-core<0.11.0,>=0.10.1->llama-index-vector-stores-opensearch) (2024.3.1)\n",
      "Requirement already satisfied: httpx in /Users/suo/dev/odr-poc/.env/lib/python3.11/site-packages (from llama-index-core<0.11.0,>=0.10.1->llama-index-vector-stores-opensearch) (0.27.0)\n",
      "Requirement already satisfied: llamaindex-py-client<0.2.0,>=0.1.18 in /Users/suo/dev/odr-poc/.env/lib/python3.11/site-packages (from llama-index-core<0.11.0,>=0.10.1->llama-index-vector-stores-opensearch) (0.1.18)\n",
      "Requirement already satisfied: nest-asyncio<2.0.0,>=1.5.8 in /Users/suo/dev/odr-poc/.env/lib/python3.11/site-packages (from llama-index-core<0.11.0,>=0.10.1->llama-index-vector-stores-opensearch) (1.6.0)\n",
      "Requirement already satisfied: networkx>=3.0 in /Users/suo/dev/odr-poc/.env/lib/python3.11/site-packages (from llama-index-core<0.11.0,>=0.10.1->llama-index-vector-stores-opensearch) (3.3)\n",
      "Requirement already satisfied: nltk<4.0.0,>=3.8.1 in /Users/suo/dev/odr-poc/.env/lib/python3.11/site-packages (from llama-index-core<0.11.0,>=0.10.1->llama-index-vector-stores-opensearch) (3.8.1)\n",
      "Requirement already satisfied: numpy in /Users/suo/dev/odr-poc/.env/lib/python3.11/site-packages (from llama-index-core<0.11.0,>=0.10.1->llama-index-vector-stores-opensearch) (1.26.4)\n",
      "Requirement already satisfied: openai>=1.1.0 in /Users/suo/dev/odr-poc/.env/lib/python3.11/site-packages (from llama-index-core<0.11.0,>=0.10.1->llama-index-vector-stores-opensearch) (1.17.0)\n",
      "Requirement already satisfied: pandas in /Users/suo/dev/odr-poc/.env/lib/python3.11/site-packages (from llama-index-core<0.11.0,>=0.10.1->llama-index-vector-stores-opensearch) (2.2.2)\n",
      "Requirement already satisfied: pillow>=9.0.0 in /Users/suo/dev/odr-poc/.env/lib/python3.11/site-packages (from llama-index-core<0.11.0,>=0.10.1->llama-index-vector-stores-opensearch) (10.3.0)\n",
      "Requirement already satisfied: requests>=2.31.0 in /Users/suo/dev/odr-poc/.env/lib/python3.11/site-packages (from llama-index-core<0.11.0,>=0.10.1->llama-index-vector-stores-opensearch) (2.31.0)\n",
      "Requirement already satisfied: tenacity<9.0.0,>=8.2.0 in /Users/suo/dev/odr-poc/.env/lib/python3.11/site-packages (from llama-index-core<0.11.0,>=0.10.1->llama-index-vector-stores-opensearch) (8.2.3)\n",
      "Requirement already satisfied: tiktoken>=0.3.3 in /Users/suo/dev/odr-poc/.env/lib/python3.11/site-packages (from llama-index-core<0.11.0,>=0.10.1->llama-index-vector-stores-opensearch) (0.6.0)\n",
      "Requirement already satisfied: tqdm<5.0.0,>=4.66.1 in /Users/suo/dev/odr-poc/.env/lib/python3.11/site-packages (from llama-index-core<0.11.0,>=0.10.1->llama-index-vector-stores-opensearch) (4.66.2)\n",
      "Requirement already satisfied: typing-extensions>=4.5.0 in /Users/suo/dev/odr-poc/.env/lib/python3.11/site-packages (from llama-index-core<0.11.0,>=0.10.1->llama-index-vector-stores-opensearch) (4.11.0)\n",
      "Requirement already satisfied: typing-inspect>=0.8.0 in /Users/suo/dev/odr-poc/.env/lib/python3.11/site-packages (from llama-index-core<0.11.0,>=0.10.1->llama-index-vector-stores-opensearch) (0.9.0)\n",
      "Requirement already satisfied: wrapt in /Users/suo/dev/odr-poc/.env/lib/python3.11/site-packages (from llama-index-core<0.11.0,>=0.10.1->llama-index-vector-stores-opensearch) (1.16.0)\n",
      "Requirement already satisfied: urllib3<2,>=1.26.18 in /Users/suo/dev/odr-poc/.env/lib/python3.11/site-packages (from opensearch-py[async]<3.0.0,>=2.4.2->llama-index-vector-stores-opensearch) (1.26.18)\n",
      "Requirement already satisfied: six in /Users/suo/dev/odr-poc/.env/lib/python3.11/site-packages (from opensearch-py[async]<3.0.0,>=2.4.2->llama-index-vector-stores-opensearch) (1.16.0)\n",
      "Requirement already satisfied: python-dateutil in /Users/suo/dev/odr-poc/.env/lib/python3.11/site-packages (from opensearch-py[async]<3.0.0,>=2.4.2->llama-index-vector-stores-opensearch) (2.9.0.post0)\n",
      "Requirement already satisfied: certifi>=2022.12.07 in /Users/suo/dev/odr-poc/.env/lib/python3.11/site-packages (from opensearch-py[async]<3.0.0,>=2.4.2->llama-index-vector-stores-opensearch) (2024.2.2)\n",
      "Requirement already satisfied: aiosignal>=1.1.2 in /Users/suo/dev/odr-poc/.env/lib/python3.11/site-packages (from aiohttp<4.0.0,>=3.8.6->llama-index-core<0.11.0,>=0.10.1->llama-index-vector-stores-opensearch) (1.3.1)\n",
      "Requirement already satisfied: attrs>=17.3.0 in /Users/suo/dev/odr-poc/.env/lib/python3.11/site-packages (from aiohttp<4.0.0,>=3.8.6->llama-index-core<0.11.0,>=0.10.1->llama-index-vector-stores-opensearch) (23.2.0)\n",
      "Requirement already satisfied: frozenlist>=1.1.1 in /Users/suo/dev/odr-poc/.env/lib/python3.11/site-packages (from aiohttp<4.0.0,>=3.8.6->llama-index-core<0.11.0,>=0.10.1->llama-index-vector-stores-opensearch) (1.4.1)\n",
      "Requirement already satisfied: multidict<7.0,>=4.5 in /Users/suo/dev/odr-poc/.env/lib/python3.11/site-packages (from aiohttp<4.0.0,>=3.8.6->llama-index-core<0.11.0,>=0.10.1->llama-index-vector-stores-opensearch) (6.0.5)\n",
      "Requirement already satisfied: yarl<2.0,>=1.0 in /Users/suo/dev/odr-poc/.env/lib/python3.11/site-packages (from aiohttp<4.0.0,>=3.8.6->llama-index-core<0.11.0,>=0.10.1->llama-index-vector-stores-opensearch) (1.9.4)\n",
      "Requirement already satisfied: pydantic>=1.10 in /Users/suo/dev/odr-poc/.env/lib/python3.11/site-packages (from llamaindex-py-client<0.2.0,>=0.1.18->llama-index-core<0.11.0,>=0.10.1->llama-index-vector-stores-opensearch) (2.7.0)\n",
      "Requirement already satisfied: anyio in /Users/suo/dev/odr-poc/.env/lib/python3.11/site-packages (from httpx->llama-index-core<0.11.0,>=0.10.1->llama-index-vector-stores-opensearch) (4.3.0)\n",
      "Requirement already satisfied: httpcore==1.* in /Users/suo/dev/odr-poc/.env/lib/python3.11/site-packages (from httpx->llama-index-core<0.11.0,>=0.10.1->llama-index-vector-stores-opensearch) (1.0.5)\n",
      "Requirement already satisfied: idna in /Users/suo/dev/odr-poc/.env/lib/python3.11/site-packages (from httpx->llama-index-core<0.11.0,>=0.10.1->llama-index-vector-stores-opensearch) (3.7)\n",
      "Requirement already satisfied: sniffio in /Users/suo/dev/odr-poc/.env/lib/python3.11/site-packages (from httpx->llama-index-core<0.11.0,>=0.10.1->llama-index-vector-stores-opensearch) (1.3.1)\n",
      "Requirement already satisfied: h11<0.15,>=0.13 in /Users/suo/dev/odr-poc/.env/lib/python3.11/site-packages (from httpcore==1.*->httpx->llama-index-core<0.11.0,>=0.10.1->llama-index-vector-stores-opensearch) (0.14.0)\n",
      "Requirement already satisfied: click in /Users/suo/dev/odr-poc/.env/lib/python3.11/site-packages (from nltk<4.0.0,>=3.8.1->llama-index-core<0.11.0,>=0.10.1->llama-index-vector-stores-opensearch) (8.1.7)\n",
      "Requirement already satisfied: joblib in /Users/suo/dev/odr-poc/.env/lib/python3.11/site-packages (from nltk<4.0.0,>=3.8.1->llama-index-core<0.11.0,>=0.10.1->llama-index-vector-stores-opensearch) (1.4.0)\n",
      "Requirement already satisfied: regex>=2021.8.3 in /Users/suo/dev/odr-poc/.env/lib/python3.11/site-packages (from nltk<4.0.0,>=3.8.1->llama-index-core<0.11.0,>=0.10.1->llama-index-vector-stores-opensearch) (2023.12.25)\n",
      "Requirement already satisfied: distro<2,>=1.7.0 in /Users/suo/dev/odr-poc/.env/lib/python3.11/site-packages (from openai>=1.1.0->llama-index-core<0.11.0,>=0.10.1->llama-index-vector-stores-opensearch) (1.9.0)\n",
      "Requirement already satisfied: charset-normalizer<4,>=2 in /Users/suo/dev/odr-poc/.env/lib/python3.11/site-packages (from requests>=2.31.0->llama-index-core<0.11.0,>=0.10.1->llama-index-vector-stores-opensearch) (3.3.2)\n",
      "Requirement already satisfied: greenlet!=0.4.17 in /Users/suo/dev/odr-poc/.env/lib/python3.11/site-packages (from SQLAlchemy[asyncio]>=1.4.49->llama-index-core<0.11.0,>=0.10.1->llama-index-vector-stores-opensearch) (3.0.3)\n",
      "Requirement already satisfied: mypy-extensions>=0.3.0 in /Users/suo/dev/odr-poc/.env/lib/python3.11/site-packages (from typing-inspect>=0.8.0->llama-index-core<0.11.0,>=0.10.1->llama-index-vector-stores-opensearch) (1.0.0)\n",
      "Requirement already satisfied: marshmallow<4.0.0,>=3.18.0 in /Users/suo/dev/odr-poc/.env/lib/python3.11/site-packages (from dataclasses-json->llama-index-core<0.11.0,>=0.10.1->llama-index-vector-stores-opensearch) (3.21.1)\n",
      "Requirement already satisfied: pytz>=2020.1 in /Users/suo/dev/odr-poc/.env/lib/python3.11/site-packages (from pandas->llama-index-core<0.11.0,>=0.10.1->llama-index-vector-stores-opensearch) (2024.1)\n",
      "Requirement already satisfied: tzdata>=2022.7 in /Users/suo/dev/odr-poc/.env/lib/python3.11/site-packages (from pandas->llama-index-core<0.11.0,>=0.10.1->llama-index-vector-stores-opensearch) (2024.1)\n",
      "Requirement already satisfied: packaging>=17.0 in /Users/suo/dev/odr-poc/.env/lib/python3.11/site-packages (from marshmallow<4.0.0,>=3.18.0->dataclasses-json->llama-index-core<0.11.0,>=0.10.1->llama-index-vector-stores-opensearch) (24.0)\n",
      "Requirement already satisfied: annotated-types>=0.4.0 in /Users/suo/dev/odr-poc/.env/lib/python3.11/site-packages (from pydantic>=1.10->llamaindex-py-client<0.2.0,>=0.1.18->llama-index-core<0.11.0,>=0.10.1->llama-index-vector-stores-opensearch) (0.6.0)\n",
      "Requirement already satisfied: pydantic-core==2.18.1 in /Users/suo/dev/odr-poc/.env/lib/python3.11/site-packages (from pydantic>=1.10->llamaindex-py-client<0.2.0,>=0.1.18->llama-index-core<0.11.0,>=0.10.1->llama-index-vector-stores-opensearch) (2.18.1)\n",
      "Installing collected packages: llama-index-vector-stores-opensearch\n",
      "Successfully installed llama-index-vector-stores-opensearch-0.1.8\n",
      "\n",
      "\u001b[1m[\u001b[0m\u001b[34;49mnotice\u001b[0m\u001b[1;39;49m]\u001b[0m\u001b[39;49m A new release of pip available: \u001b[0m\u001b[31;49m22.3.1\u001b[0m\u001b[39;49m -> \u001b[0m\u001b[32;49m24.0\u001b[0m\n",
      "\u001b[1m[\u001b[0m\u001b[34;49mnotice\u001b[0m\u001b[1;39;49m]\u001b[0m\u001b[39;49m To update, run: \u001b[0m\u001b[32;49mpip install --upgrade pip\u001b[0m\n",
      "Note: you may need to restart the kernel to use updated packages.\n",
      "Requirement already satisfied: requests-aws4auth in /Users/suo/dev/odr-poc/.env/lib/python3.11/site-packages (1.2.3)\n",
      "Requirement already satisfied: requests in /Users/suo/dev/odr-poc/.env/lib/python3.11/site-packages (from requests-aws4auth) (2.31.0)\n",
      "Requirement already satisfied: six in /Users/suo/dev/odr-poc/.env/lib/python3.11/site-packages (from requests-aws4auth) (1.16.0)\n",
      "Requirement already satisfied: charset-normalizer<4,>=2 in /Users/suo/dev/odr-poc/.env/lib/python3.11/site-packages (from requests->requests-aws4auth) (3.3.2)\n",
      "Requirement already satisfied: idna<4,>=2.5 in /Users/suo/dev/odr-poc/.env/lib/python3.11/site-packages (from requests->requests-aws4auth) (3.7)\n",
      "Requirement already satisfied: urllib3<3,>=1.21.1 in /Users/suo/dev/odr-poc/.env/lib/python3.11/site-packages (from requests->requests-aws4auth) (1.26.18)\n",
      "Requirement already satisfied: certifi>=2017.4.17 in /Users/suo/dev/odr-poc/.env/lib/python3.11/site-packages (from requests->requests-aws4auth) (2024.2.2)\n",
      "\n",
      "\u001b[1m[\u001b[0m\u001b[34;49mnotice\u001b[0m\u001b[1;39;49m]\u001b[0m\u001b[39;49m A new release of pip available: \u001b[0m\u001b[31;49m22.3.1\u001b[0m\u001b[39;49m -> \u001b[0m\u001b[32;49m24.0\u001b[0m\n",
      "\u001b[1m[\u001b[0m\u001b[34;49mnotice\u001b[0m\u001b[1;39;49m]\u001b[0m\u001b[39;49m To update, run: \u001b[0m\u001b[32;49mpip install --upgrade pip\u001b[0m\n",
      "Note: you may need to restart the kernel to use updated packages.\n"
     ]
    }
   ],
   "source": [
    "%pip install llama-index-llms-bedrock\n",
    "%pip install llama-index-retrievers-bedrock\n",
    "%pip install llama-index-vector-stores-opensearch\n",
    "%pip install llama-index-embeddings-bedrock\n",
    "%pip install requests-aws4auth"
   ]
  },
  {
   "cell_type": "code",
   "execution_count": 1,
   "id": "1a14f85d-2cdb-4e1b-8742-ceb3c16ef796",
   "metadata": {},
   "outputs": [],
   "source": [
    "import nest_asyncio\n",
    "nest_asyncio.apply()"
   ]
  },
  {
   "cell_type": "markdown",
   "id": "96b798a4-58e1-4ce8-b7b6-bb96fb42962e",
   "metadata": {},
   "source": [
    "### Configure OpenSearch and create collection (via console)"
   ]
  },
  {
   "cell_type": "markdown",
   "id": "5d221a48-37dc-4e45-96a8-b12fd464e051",
   "metadata": {},
   "source": [
    "1. Go to Amazon OpenSearch Service\n",
    "2. Select serverless, get started\n",
    "3. create collection (using \"rag-bedrock\" as collection name)  \n",
    "wait for collection to create, takes ~5 mins"
   ]
  },
  {
   "cell_type": "markdown",
   "id": "5e23be98-1170-4fb3-b08b-6227faaebea1",
   "metadata": {},
   "source": [
    "### Connect to OpenSearch for indexing"
   ]
  },
  {
   "cell_type": "code",
   "execution_count": 2,
   "id": "23113103-b1b6-42ee-bde7-5eacdc932861",
   "metadata": {},
   "outputs": [],
   "source": [
    "from opensearchpy import OpenSearch, AsyncOpenSearch, AsyncHttpConnection, AWSV4SignerAsyncAuth"
   ]
  },
  {
   "cell_type": "code",
   "execution_count": 3,
   "id": "3e6fe83f-60c3-4192-a658-85d2cbaba67f",
   "metadata": {},
   "outputs": [],
   "source": [
    "import boto3\n",
    "from requests_aws4auth import AWS4Auth\n",
    "\n",
    "service = 'aoss'\n",
    "region = 'us-east-1'\n",
    "session = boto3.Session(region_name=region)\n",
    "credentials = session.get_credentials()\n",
    "auth = AWSV4SignerAsyncAuth(credentials, region, service)"
   ]
  },
  {
   "cell_type": "code",
   "execution_count": 19,
   "id": "0b9e16d8-e042-4370-9b09-b846a07eb5f0",
   "metadata": {},
   "outputs": [],
   "source": [
    "from llama_index.vector_stores.opensearch import (\n",
    "    OpensearchVectorStore,\n",
    "    OpensearchVectorClient,\n",
    ")\n",
    "\n",
    "host = 'https://abhpc33ml2wxb5lfm7mj.us-east-1.aoss.amazonaws.com'\n",
    "index_name = 'cohere-index'\n",
    "text_field = \"content\"\n",
    "embedding_field = \"embedding\"\n",
    "\n",
    "client = OpensearchVectorClient(\n",
    "    host,\n",
    "    index_name, \n",
    "    1024, # embedding dimension for cohere.embed-english-v3\n",
    "    embedding_field=embedding_field, \n",
    "    text_field=text_field, \n",
    "    use_ssl=True,\n",
    "    verify_certs=True,\n",
    "    http_auth=auth, \n",
    "    connection_class=AsyncHttpConnection,\n",
    ")"
   ]
  },
  {
   "cell_type": "code",
   "execution_count": 41,
   "id": "ae26011f-13f5-4247-b8ee-15ca9ce7a32c",
   "metadata": {},
   "outputs": [],
   "source": [
    "from llama_index.core import VectorStoreIndex\n",
    "\n",
    "vector_store = OpensearchVectorStore(client)\n",
    "index = VectorStoreIndex.from_vector_store(vector_store, verbose=True)"
   ]
  },
  {
   "cell_type": "code",
   "execution_count": 60,
   "id": "cb84a811-0811-4133-ae98-c29882d1901e",
   "metadata": {},
   "outputs": [],
   "source": [
    "from llama_index.core import Settings\n",
    "from llama_index.embeddings.bedrock import BedrockEmbedding\n",
    "\n",
    "Settings.embed_model = BedrockEmbedding(model=\"cohere.embed-english-v3\")\n",
    "Settings.chunk_size = 256"
   ]
  },
  {
   "cell_type": "markdown",
   "id": "f0ea772c-0485-4c1e-ab1a-5d41f4198ad2",
   "metadata": {},
   "source": [
    "### Parsing & Ingestion"
   ]
  },
  {
   "cell_type": "markdown",
   "id": "8267285b-4bfb-45c1-a6c8-b290b75b9d5d",
   "metadata": {},
   "source": [
    "Todo: create OpenSearch cluster, is this the same as the open search serverless?\n",
    "* looks like it's part of the open search service.\n",
    "\n",
    "Todo: use LlamaParse and ingest data into OpenSearch  \n",
    "Todo: figure out how to ingest into OpenSearch"
   ]
  },
  {
   "cell_type": "markdown",
   "id": "a924f69f-fa7f-496e-a009-39519c9baecb",
   "metadata": {},
   "source": [
    "Reference: https://docs.llamaindex.ai/en/stable/examples/vector_stores/OpensearchDemo/?h=opensearch"
   ]
  },
  {
   "cell_type": "code",
   "execution_count": 56,
   "id": "528d340c-5e7b-4041-8066-d0f93edf48bc",
   "metadata": {},
   "outputs": [
    {
     "name": "stdout",
     "output_type": "stream",
     "text": [
      "--2024-04-17 22:21:52--  https://raw.githubusercontent.com/run-llama/llama_index/main/docs/docs/examples/data/paul_graham/paul_graham_essay.txt\n",
      "Resolving raw.githubusercontent.com (raw.githubusercontent.com)... 185.199.108.133, 185.199.109.133, 185.199.110.133, ...\n",
      "Connecting to raw.githubusercontent.com (raw.githubusercontent.com)|185.199.108.133|:443... connected.\n",
      "HTTP request sent, awaiting response... 200 OK\n",
      "Length: 75042 (73K) [text/plain]\n",
      "Saving to: ‘data/paul_graham/paul_graham_essay.txt’\n",
      "\n",
      "data/paul_graham/pa 100%[===================>]  73.28K  --.-KB/s    in 0.005s  \n",
      "\n",
      "2024-04-17 22:21:53 (14.0 MB/s) - ‘data/paul_graham/paul_graham_essay.txt’ saved [75042/75042]\n",
      "\n"
     ]
    }
   ],
   "source": [
    "!mkdir -p 'data/paul_graham/'\n",
    "!wget 'https://raw.githubusercontent.com/run-llama/llama_index/main/docs/docs/examples/data/paul_graham/paul_graham_essay.txt' -O 'data/paul_graham/paul_graham_essay.txt'"
   ]
  },
  {
   "cell_type": "code",
   "execution_count": 57,
   "id": "1f68e874-ff1f-451d-9f91-c703557232e6",
   "metadata": {},
   "outputs": [],
   "source": [
    "from llama_index.core import SimpleDirectoryReader\n",
    "\n",
    "docs = SimpleDirectoryReader(\"./data/paul_graham/\").load_data()"
   ]
  },
  {
   "cell_type": "code",
   "execution_count": 58,
   "id": "d216f517-a855-4401-a984-8f7dc688b0b1",
   "metadata": {},
   "outputs": [],
   "source": [
    "for doc in docs:\n",
    "    index.insert(doc, verbose=True)"
   ]
  }
 ],
 "metadata": {
  "kernelspec": {
   "display_name": "Python 3 (ipykernel)",
   "language": "python",
   "name": "python3"
  },
  "language_info": {
   "codemirror_mode": {
    "name": "ipython",
    "version": 3
   },
   "file_extension": ".py",
   "mimetype": "text/x-python",
   "name": "python",
   "nbconvert_exporter": "python",
   "pygments_lexer": "ipython3",
   "version": "3.11.3"
  }
 },
 "nbformat": 4,
 "nbformat_minor": 5
}
